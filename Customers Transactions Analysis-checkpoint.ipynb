{
 "cells": [
  {
   "cell_type": "code",
   "execution_count": 1,
   "id": "afea7fd9",
   "metadata": {},
   "outputs": [],
   "source": [
    "import numpy as np\n",
    "import pandas as pd\n",
    "import matplotlib.pyplot as plt\n",
    "import seaborn as sns"
   ]
  },
  {
   "cell_type": "code",
   "execution_count": 2,
   "id": "57317296",
   "metadata": {},
   "outputs": [
    {
     "data": {
      "text/html": [
       "<div>\n",
       "<style scoped>\n",
       "    .dataframe tbody tr th:only-of-type {\n",
       "        vertical-align: middle;\n",
       "    }\n",
       "\n",
       "    .dataframe tbody tr th {\n",
       "        vertical-align: top;\n",
       "    }\n",
       "\n",
       "    .dataframe thead th {\n",
       "        text-align: right;\n",
       "    }\n",
       "</style>\n",
       "<table border=\"1\" class=\"dataframe\">\n",
       "  <thead>\n",
       "    <tr style=\"text-align: right;\">\n",
       "      <th></th>\n",
       "      <th>customer</th>\n",
       "      <th>accountid</th>\n",
       "      <th>AMOUNT_LCY</th>\n",
       "      <th>Trans_ID</th>\n",
       "      <th>Trans_timestamp</th>\n",
       "      <th>deb_cre_ind</th>\n",
       "      <th>narrative</th>\n",
       "      <th>transactiondescription</th>\n",
       "    </tr>\n",
       "  </thead>\n",
       "  <tbody>\n",
       "    <tr>\n",
       "      <th>0</th>\n",
       "      <td>18354812</td>\n",
       "      <td>19888479</td>\n",
       "      <td>321685.00</td>\n",
       "      <td>FT202730YK10</td>\n",
       "      <td>2020-09-29 10:16:04.000</td>\n",
       "      <td>C</td>\n",
       "      <td>CHOICE INTERNATIONAL FORWARDING NIG?EMEKA LINU...</td>\n",
       "      <td>TRANSFER IN</td>\n",
       "    </tr>\n",
       "    <tr>\n",
       "      <th>1</th>\n",
       "      <td>12174614</td>\n",
       "      <td>16476167</td>\n",
       "      <td>1555.40</td>\n",
       "      <td>FT202661P8Q7</td>\n",
       "      <td>2020-09-22 15:47:31.000</td>\n",
       "      <td>C</td>\n",
       "      <td>BANK?NIP From 11000720092216005928289544?8107 ...</td>\n",
       "      <td>TRANSFER IN</td>\n",
       "    </tr>\n",
       "    <tr>\n",
       "      <th>2</th>\n",
       "      <td>13975321</td>\n",
       "      <td>15133256</td>\n",
       "      <td>331922.37</td>\n",
       "      <td>FT20274MBLN1</td>\n",
       "      <td>2020-09-30 15:05:40.997</td>\n",
       "      <td>C</td>\n",
       "      <td>BANK]SEPTEMBER SALARY 030202093421349</td>\n",
       "      <td>TRANSFER IN</td>\n",
       "    </tr>\n",
       "    <tr>\n",
       "      <th>3</th>\n",
       "      <td>13268397</td>\n",
       "      <td>13323967</td>\n",
       "      <td>28280.00</td>\n",
       "      <td>FT20266W5M7H</td>\n",
       "      <td>2020-09-22 07:30:57.000</td>\n",
       "      <td>C</td>\n",
       "      <td>BANK?NIP From 00001420092208270929929956?7597 ...</td>\n",
       "      <td>TRANSFER IN</td>\n",
       "    </tr>\n",
       "    <tr>\n",
       "      <th>4</th>\n",
       "      <td>11773959</td>\n",
       "      <td>14430794</td>\n",
       "      <td>363398.00</td>\n",
       "      <td>FT20268S7T8C</td>\n",
       "      <td>2020-09-24 11:08:32.000</td>\n",
       "      <td>C</td>\n",
       "      <td>BANK?NIP From 00001520092411552900116649?4596 ...</td>\n",
       "      <td>TRANSFER IN</td>\n",
       "    </tr>\n",
       "  </tbody>\n",
       "</table>\n",
       "</div>"
      ],
      "text/plain": [
       "   customer  accountid  AMOUNT_LCY      Trans_ID          Trans_timestamp  \\\n",
       "0  18354812   19888479   321685.00  FT202730YK10  2020-09-29 10:16:04.000   \n",
       "1  12174614   16476167     1555.40  FT202661P8Q7  2020-09-22 15:47:31.000   \n",
       "2  13975321   15133256   331922.37  FT20274MBLN1  2020-09-30 15:05:40.997   \n",
       "3  13268397   13323967    28280.00  FT20266W5M7H  2020-09-22 07:30:57.000   \n",
       "4  11773959   14430794   363398.00  FT20268S7T8C  2020-09-24 11:08:32.000   \n",
       "\n",
       "  deb_cre_ind                                          narrative  \\\n",
       "0           C  CHOICE INTERNATIONAL FORWARDING NIG?EMEKA LINU...   \n",
       "1           C  BANK?NIP From 11000720092216005928289544?8107 ...   \n",
       "2           C              BANK]SEPTEMBER SALARY 030202093421349   \n",
       "3           C  BANK?NIP From 00001420092208270929929956?7597 ...   \n",
       "4           C  BANK?NIP From 00001520092411552900116649?4596 ...   \n",
       "\n",
       "  transactiondescription  \n",
       "0            TRANSFER IN  \n",
       "1            TRANSFER IN  \n",
       "2            TRANSFER IN  \n",
       "3            TRANSFER IN  \n",
       "4            TRANSFER IN  "
      ]
     },
     "execution_count": 2,
     "metadata": {},
     "output_type": "execute_result"
    }
   ],
   "source": [
    "#load data from csv file\n",
    "transactions_data = pd.read_csv(\"transactions_data.csv\")\n",
    "transactions_data.head()"
   ]
  },
  {
   "cell_type": "code",
   "execution_count": 3,
   "id": "fa5344ec",
   "metadata": {},
   "outputs": [
    {
     "data": {
      "text/html": [
       "<div>\n",
       "<style scoped>\n",
       "    .dataframe tbody tr th:only-of-type {\n",
       "        vertical-align: middle;\n",
       "    }\n",
       "\n",
       "    .dataframe tbody tr th {\n",
       "        vertical-align: top;\n",
       "    }\n",
       "\n",
       "    .dataframe thead th {\n",
       "        text-align: right;\n",
       "    }\n",
       "</style>\n",
       "<table border=\"1\" class=\"dataframe\">\n",
       "  <thead>\n",
       "    <tr style=\"text-align: right;\">\n",
       "      <th></th>\n",
       "      <th>customer</th>\n",
       "      <th>accountid</th>\n",
       "      <th>AMOUNT_LCY</th>\n",
       "      <th>Trans_ID</th>\n",
       "      <th>Trans_timestamp</th>\n",
       "      <th>deb_cre_ind</th>\n",
       "      <th>narrative</th>\n",
       "      <th>transactiondescription</th>\n",
       "    </tr>\n",
       "  </thead>\n",
       "  <tbody>\n",
       "    <tr>\n",
       "      <th>0</th>\n",
       "      <td>18354812</td>\n",
       "      <td>19888479</td>\n",
       "      <td>321685.00</td>\n",
       "      <td>FT202730YK10</td>\n",
       "      <td>2020-09-29 10:16:04.000</td>\n",
       "      <td>C</td>\n",
       "      <td>CHOICE INTERNATIONAL FORWARDING NIG?EMEKA LINU...</td>\n",
       "      <td>TRANSFER IN</td>\n",
       "    </tr>\n",
       "    <tr>\n",
       "      <th>1</th>\n",
       "      <td>12174614</td>\n",
       "      <td>16476167</td>\n",
       "      <td>1555.40</td>\n",
       "      <td>FT202661P8Q7</td>\n",
       "      <td>2020-09-22 15:47:31.000</td>\n",
       "      <td>C</td>\n",
       "      <td>BANK?NIP From 11000720092216005928289544?8107 ...</td>\n",
       "      <td>TRANSFER IN</td>\n",
       "    </tr>\n",
       "    <tr>\n",
       "      <th>2</th>\n",
       "      <td>13975321</td>\n",
       "      <td>15133256</td>\n",
       "      <td>331922.37</td>\n",
       "      <td>FT20274MBLN1</td>\n",
       "      <td>2020-09-30 15:05:40.997</td>\n",
       "      <td>C</td>\n",
       "      <td>BANK]SEPTEMBER SALARY 030202093421349</td>\n",
       "      <td>TRANSFER IN</td>\n",
       "    </tr>\n",
       "    <tr>\n",
       "      <th>3</th>\n",
       "      <td>13268397</td>\n",
       "      <td>13323967</td>\n",
       "      <td>28280.00</td>\n",
       "      <td>FT20266W5M7H</td>\n",
       "      <td>2020-09-22 07:30:57.000</td>\n",
       "      <td>C</td>\n",
       "      <td>BANK?NIP From 00001420092208270929929956?7597 ...</td>\n",
       "      <td>TRANSFER IN</td>\n",
       "    </tr>\n",
       "    <tr>\n",
       "      <th>4</th>\n",
       "      <td>11773959</td>\n",
       "      <td>14430794</td>\n",
       "      <td>363398.00</td>\n",
       "      <td>FT20268S7T8C</td>\n",
       "      <td>2020-09-24 11:08:32.000</td>\n",
       "      <td>C</td>\n",
       "      <td>BANK?NIP From 00001520092411552900116649?4596 ...</td>\n",
       "      <td>TRANSFER IN</td>\n",
       "    </tr>\n",
       "    <tr>\n",
       "      <th>...</th>\n",
       "      <td>...</td>\n",
       "      <td>...</td>\n",
       "      <td>...</td>\n",
       "      <td>...</td>\n",
       "      <td>...</td>\n",
       "      <td>...</td>\n",
       "      <td>...</td>\n",
       "      <td>...</td>\n",
       "    </tr>\n",
       "    <tr>\n",
       "      <th>219838</th>\n",
       "      <td>16883666</td>\n",
       "      <td>11244205</td>\n",
       "      <td>6363.00</td>\n",
       "      <td>FT20245VRPD0</td>\n",
       "      <td>2020-09-01 07:10:04.000</td>\n",
       "      <td>C</td>\n",
       "      <td>BANK?NIP From 00001620090108061900003269?0223 ...</td>\n",
       "      <td>TRANSFER IN</td>\n",
       "    </tr>\n",
       "    <tr>\n",
       "      <th>219839</th>\n",
       "      <td>10499247</td>\n",
       "      <td>18531041</td>\n",
       "      <td>2828.00</td>\n",
       "      <td>FT202484SNHZ</td>\n",
       "      <td>2020-09-04 10:58:40.000</td>\n",
       "      <td>C</td>\n",
       "      <td>BANK?NIP From 10000420090410393510020784?0304 ...</td>\n",
       "      <td>TRANSFER IN</td>\n",
       "    </tr>\n",
       "    <tr>\n",
       "      <th>219840</th>\n",
       "      <td>13383118</td>\n",
       "      <td>17545077</td>\n",
       "      <td>26823.58</td>\n",
       "      <td>FT202453K6YS</td>\n",
       "      <td>2020-09-01 12:03:45.000</td>\n",
       "      <td>D</td>\n",
       "      <td>MANAGERS CHEQUES - NG0020031?UZOCHUKWU CYPRIAN...</td>\n",
       "      <td>TRANSFER OUT</td>\n",
       "    </tr>\n",
       "    <tr>\n",
       "      <th>219841</th>\n",
       "      <td>13993053</td>\n",
       "      <td>17043431</td>\n",
       "      <td>707000.00</td>\n",
       "      <td>FT202530ZQP7</td>\n",
       "      <td>2020-09-08 20:22:51.000</td>\n",
       "      <td>D</td>\n",
       "      <td>NIBSS INSTANT PAYMENT TSS?Online to GTBank Plc...</td>\n",
       "      <td>TRF :</td>\n",
       "    </tr>\n",
       "    <tr>\n",
       "      <th>219842</th>\n",
       "      <td>19565485</td>\n",
       "      <td>18331568</td>\n",
       "      <td>509040.00</td>\n",
       "      <td>BKOT20253NTD2D</td>\n",
       "      <td>2020-09-09 14:26:29.000</td>\n",
       "      <td>C</td>\n",
       "      <td>C</td>\n",
       "      <td>NaN</td>\n",
       "    </tr>\n",
       "  </tbody>\n",
       "</table>\n",
       "<p>219843 rows × 8 columns</p>\n",
       "</div>"
      ],
      "text/plain": [
       "        customer  accountid  AMOUNT_LCY        Trans_ID  \\\n",
       "0       18354812   19888479   321685.00    FT202730YK10   \n",
       "1       12174614   16476167     1555.40    FT202661P8Q7   \n",
       "2       13975321   15133256   331922.37    FT20274MBLN1   \n",
       "3       13268397   13323967    28280.00    FT20266W5M7H   \n",
       "4       11773959   14430794   363398.00    FT20268S7T8C   \n",
       "...          ...        ...         ...             ...   \n",
       "219838  16883666   11244205     6363.00    FT20245VRPD0   \n",
       "219839  10499247   18531041     2828.00    FT202484SNHZ   \n",
       "219840  13383118   17545077    26823.58    FT202453K6YS   \n",
       "219841  13993053   17043431   707000.00    FT202530ZQP7   \n",
       "219842  19565485   18331568   509040.00  BKOT20253NTD2D   \n",
       "\n",
       "                Trans_timestamp deb_cre_ind  \\\n",
       "0       2020-09-29 10:16:04.000           C   \n",
       "1       2020-09-22 15:47:31.000           C   \n",
       "2       2020-09-30 15:05:40.997           C   \n",
       "3       2020-09-22 07:30:57.000           C   \n",
       "4       2020-09-24 11:08:32.000           C   \n",
       "...                         ...         ...   \n",
       "219838  2020-09-01 07:10:04.000           C   \n",
       "219839  2020-09-04 10:58:40.000           C   \n",
       "219840  2020-09-01 12:03:45.000           D   \n",
       "219841  2020-09-08 20:22:51.000           D   \n",
       "219842  2020-09-09 14:26:29.000           C   \n",
       "\n",
       "                                                narrative  \\\n",
       "0       CHOICE INTERNATIONAL FORWARDING NIG?EMEKA LINU...   \n",
       "1       BANK?NIP From 11000720092216005928289544?8107 ...   \n",
       "2                   BANK]SEPTEMBER SALARY 030202093421349   \n",
       "3       BANK?NIP From 00001420092208270929929956?7597 ...   \n",
       "4       BANK?NIP From 00001520092411552900116649?4596 ...   \n",
       "...                                                   ...   \n",
       "219838  BANK?NIP From 00001620090108061900003269?0223 ...   \n",
       "219839  BANK?NIP From 10000420090410393510020784?0304 ...   \n",
       "219840  MANAGERS CHEQUES - NG0020031?UZOCHUKWU CYPRIAN...   \n",
       "219841  NIBSS INSTANT PAYMENT TSS?Online to GTBank Plc...   \n",
       "219842                                                  C   \n",
       "\n",
       "       transactiondescription  \n",
       "0                 TRANSFER IN  \n",
       "1                 TRANSFER IN  \n",
       "2                 TRANSFER IN  \n",
       "3                 TRANSFER IN  \n",
       "4                 TRANSFER IN  \n",
       "...                       ...  \n",
       "219838            TRANSFER IN  \n",
       "219839            TRANSFER IN  \n",
       "219840           TRANSFER OUT  \n",
       "219841                  TRF :  \n",
       "219842                    NaN  \n",
       "\n",
       "[219843 rows x 8 columns]"
      ]
     },
     "execution_count": 3,
     "metadata": {},
     "output_type": "execute_result"
    }
   ],
   "source": [
    "transactions_data"
   ]
  },
  {
   "cell_type": "code",
   "execution_count": 44,
   "id": "d6563169",
   "metadata": {},
   "outputs": [
    {
     "data": {
      "text/html": [
       "<div>\n",
       "<style scoped>\n",
       "    .dataframe tbody tr th:only-of-type {\n",
       "        vertical-align: middle;\n",
       "    }\n",
       "\n",
       "    .dataframe tbody tr th {\n",
       "        vertical-align: top;\n",
       "    }\n",
       "\n",
       "    .dataframe thead th {\n",
       "        text-align: right;\n",
       "    }\n",
       "</style>\n",
       "<table border=\"1\" class=\"dataframe\">\n",
       "  <thead>\n",
       "    <tr style=\"text-align: right;\">\n",
       "      <th></th>\n",
       "      <th>customer</th>\n",
       "      <th>accountid</th>\n",
       "      <th>workingbalance</th>\n",
       "      <th>openingdate</th>\n",
       "      <th>Restriciton Code</th>\n",
       "      <th>address</th>\n",
       "      <th>email_1</th>\n",
       "      <th>account_status</th>\n",
       "      <th>Maxtransdate</th>\n",
       "      <th>product_group_desc</th>\n",
       "      <th>customer_type</th>\n",
       "      <th>region</th>\n",
       "      <th>sector</th>\n",
       "      <th>card_status</th>\n",
       "      <th>onebank</th>\n",
       "      <th>onepay</th>\n",
       "      <th>ussd</th>\n",
       "    </tr>\n",
       "  </thead>\n",
       "  <tbody>\n",
       "    <tr>\n",
       "      <th>0</th>\n",
       "      <td>15045151</td>\n",
       "      <td>14607892</td>\n",
       "      <td>88.01</td>\n",
       "      <td>2016-06-10</td>\n",
       "      <td>25</td>\n",
       "      <td>NaN</td>\n",
       "      <td>NaN</td>\n",
       "      <td>Dormant</td>\n",
       "      <td>2020-10-27</td>\n",
       "      <td>Savings Accounts Group</td>\n",
       "      <td>Individual Customer</td>\n",
       "      <td>APAPA &amp; BEYOND</td>\n",
       "      <td>ADMIN AND SUPPORT SERVICE ACT.</td>\n",
       "      <td>NaN</td>\n",
       "      <td>0</td>\n",
       "      <td>0</td>\n",
       "      <td>0</td>\n",
       "    </tr>\n",
       "    <tr>\n",
       "      <th>1</th>\n",
       "      <td>16273893</td>\n",
       "      <td>11143214</td>\n",
       "      <td>25293.31</td>\n",
       "      <td>2016-10-28</td>\n",
       "      <td>NaN</td>\n",
       "      <td>IJESHA, LAGOS</td>\n",
       "      <td>NaN</td>\n",
       "      <td>Active</td>\n",
       "      <td>2022-03-23</td>\n",
       "      <td>Savings Accounts Group</td>\n",
       "      <td>Individual Customer</td>\n",
       "      <td>APAPA &amp; BEYOND</td>\n",
       "      <td>GENERAL</td>\n",
       "      <td>Active</td>\n",
       "      <td>0</td>\n",
       "      <td>0</td>\n",
       "      <td>1</td>\n",
       "    </tr>\n",
       "    <tr>\n",
       "      <th>2</th>\n",
       "      <td>17261366</td>\n",
       "      <td>15599591</td>\n",
       "      <td>3328.29</td>\n",
       "      <td>2016-09-22</td>\n",
       "      <td>19$23$25</td>\n",
       "      <td>AJEGUNLE AJEROMI</td>\n",
       "      <td>NaN</td>\n",
       "      <td>Dormant</td>\n",
       "      <td>2020-10-14</td>\n",
       "      <td>Savings Accounts Group</td>\n",
       "      <td>Individual Customer</td>\n",
       "      <td>APAPA &amp; BEYOND</td>\n",
       "      <td>GENERAL</td>\n",
       "      <td>NaN</td>\n",
       "      <td>0</td>\n",
       "      <td>0</td>\n",
       "      <td>0</td>\n",
       "    </tr>\n",
       "    <tr>\n",
       "      <th>3</th>\n",
       "      <td>14006532</td>\n",
       "      <td>17841524</td>\n",
       "      <td>2110.85</td>\n",
       "      <td>2021-01-21</td>\n",
       "      <td>NaN</td>\n",
       "      <td>STOP KIRIKIRI TOWN</td>\n",
       "      <td>NaN</td>\n",
       "      <td>Active</td>\n",
       "      <td>2022-03-08</td>\n",
       "      <td>Current Accounts Group</td>\n",
       "      <td>Individual Customer</td>\n",
       "      <td>APAPA &amp; BEYOND</td>\n",
       "      <td>GENERAL</td>\n",
       "      <td>NaN</td>\n",
       "      <td>0</td>\n",
       "      <td>0</td>\n",
       "      <td>0</td>\n",
       "    </tr>\n",
       "    <tr>\n",
       "      <th>4</th>\n",
       "      <td>19087216</td>\n",
       "      <td>11994865</td>\n",
       "      <td>88.01</td>\n",
       "      <td>2016-06-15</td>\n",
       "      <td>25</td>\n",
       "      <td>OLODI APAPA</td>\n",
       "      <td>NaN</td>\n",
       "      <td>Dormant</td>\n",
       "      <td>2020-10-20</td>\n",
       "      <td>Savings Accounts Group</td>\n",
       "      <td>Individual Customer</td>\n",
       "      <td>APAPA &amp; BEYOND</td>\n",
       "      <td>ADMIN AND SUPPORT SERVICE ACT.</td>\n",
       "      <td>NaN</td>\n",
       "      <td>0</td>\n",
       "      <td>0</td>\n",
       "      <td>0</td>\n",
       "    </tr>\n",
       "  </tbody>\n",
       "</table>\n",
       "</div>"
      ],
      "text/plain": [
       "   customer  accountid  workingbalance openingdate Restriciton Code  \\\n",
       "0  15045151   14607892           88.01  2016-06-10               25   \n",
       "1  16273893   11143214        25293.31  2016-10-28              NaN   \n",
       "2  17261366   15599591         3328.29  2016-09-22         19$23$25   \n",
       "3  14006532   17841524         2110.85  2021-01-21              NaN   \n",
       "4  19087216   11994865           88.01  2016-06-15               25   \n",
       "\n",
       "              address email_1 account_status Maxtransdate  \\\n",
       "0                 NaN     NaN        Dormant   2020-10-27   \n",
       "1       IJESHA, LAGOS     NaN         Active   2022-03-23   \n",
       "2    AJEGUNLE AJEROMI     NaN        Dormant   2020-10-14   \n",
       "3  STOP KIRIKIRI TOWN     NaN         Active   2022-03-08   \n",
       "4         OLODI APAPA     NaN        Dormant   2020-10-20   \n",
       "\n",
       "       product_group_desc        customer_type          region  \\\n",
       "0  Savings Accounts Group  Individual Customer  APAPA & BEYOND   \n",
       "1  Savings Accounts Group  Individual Customer  APAPA & BEYOND   \n",
       "2  Savings Accounts Group  Individual Customer  APAPA & BEYOND   \n",
       "3  Current Accounts Group  Individual Customer  APAPA & BEYOND   \n",
       "4  Savings Accounts Group  Individual Customer  APAPA & BEYOND   \n",
       "\n",
       "                           sector card_status  onebank  onepay  ussd  \n",
       "0  ADMIN AND SUPPORT SERVICE ACT.         NaN        0       0     0  \n",
       "1                         GENERAL      Active        0       0     1  \n",
       "2                         GENERAL         NaN        0       0     0  \n",
       "3                         GENERAL         NaN        0       0     0  \n",
       "4  ADMIN AND SUPPORT SERVICE ACT.         NaN        0       0     0  "
      ]
     },
     "execution_count": 44,
     "metadata": {},
     "output_type": "execute_result"
    }
   ],
   "source": [
    "customers_data = pd.read_table('customers_data.csv')\n",
    "customers_data.head()"
   ]
  },
  {
   "cell_type": "code",
   "execution_count": 9,
   "id": "b7527c28",
   "metadata": {},
   "outputs": [
    {
     "data": {
      "text/plain": [
       "(219843, 8)"
      ]
     },
     "execution_count": 9,
     "metadata": {},
     "output_type": "execute_result"
    }
   ],
   "source": [
    "transactions_data.shape"
   ]
  },
  {
   "cell_type": "code",
   "execution_count": 10,
   "id": "fd76a47b",
   "metadata": {},
   "outputs": [
    {
     "data": {
      "text/plain": [
       "(5000, 17)"
      ]
     },
     "execution_count": 10,
     "metadata": {},
     "output_type": "execute_result"
    }
   ],
   "source": [
    "customers_data.shape"
   ]
  },
  {
   "cell_type": "code",
   "execution_count": 11,
   "id": "91706c1a",
   "metadata": {},
   "outputs": [
    {
     "name": "stdout",
     "output_type": "stream",
     "text": [
      "<class 'pandas.core.frame.DataFrame'>\n",
      "RangeIndex: 219843 entries, 0 to 219842\n",
      "Data columns (total 8 columns):\n",
      " #   Column                  Non-Null Count   Dtype  \n",
      "---  ------                  --------------   -----  \n",
      " 0   customer                219843 non-null  int64  \n",
      " 1   accountid               219843 non-null  int64  \n",
      " 2   AMOUNT_LCY              219843 non-null  float64\n",
      " 3   Trans_ID                215189 non-null  object \n",
      " 4   Trans_timestamp         219843 non-null  object \n",
      " 5   deb_cre_ind             219843 non-null  object \n",
      " 6   narrative               219249 non-null  object \n",
      " 7   transactiondescription  219842 non-null  object \n",
      "dtypes: float64(1), int64(2), object(5)\n",
      "memory usage: 13.4+ MB\n"
     ]
    }
   ],
   "source": [
    "transactions_data.info()"
   ]
  },
  {
   "cell_type": "code",
   "execution_count": 12,
   "id": "a95f9f7d",
   "metadata": {},
   "outputs": [
    {
     "name": "stdout",
     "output_type": "stream",
     "text": [
      "<class 'pandas.core.frame.DataFrame'>\n",
      "RangeIndex: 5000 entries, 0 to 4999\n",
      "Data columns (total 17 columns):\n",
      " #   Column              Non-Null Count  Dtype  \n",
      "---  ------              --------------  -----  \n",
      " 0   customer            5000 non-null   int64  \n",
      " 1   accountid           5000 non-null   int64  \n",
      " 2   workingbalance      5000 non-null   float64\n",
      " 3   openingdate         5000 non-null   object \n",
      " 4   Restriciton Code    3532 non-null   object \n",
      " 5   address             4317 non-null   object \n",
      " 6   email_1             1586 non-null   object \n",
      " 7   account_status      5000 non-null   object \n",
      " 8   Maxtransdate        5000 non-null   object \n",
      " 9   product_group_desc  4931 non-null   object \n",
      " 10  customer_type       5000 non-null   object \n",
      " 11  region              5000 non-null   object \n",
      " 12  sector              5000 non-null   object \n",
      " 13  card_status         1873 non-null   object \n",
      " 14  onebank             5000 non-null   int64  \n",
      " 15  onepay              5000 non-null   int64  \n",
      " 16  ussd                5000 non-null   int64  \n",
      "dtypes: float64(1), int64(5), object(11)\n",
      "memory usage: 664.2+ KB\n"
     ]
    }
   ],
   "source": [
    "customers_data.info()"
   ]
  },
  {
   "cell_type": "code",
   "execution_count": 13,
   "id": "a3804469",
   "metadata": {},
   "outputs": [
    {
     "data": {
      "text/html": [
       "<div>\n",
       "<style scoped>\n",
       "    .dataframe tbody tr th:only-of-type {\n",
       "        vertical-align: middle;\n",
       "    }\n",
       "\n",
       "    .dataframe tbody tr th {\n",
       "        vertical-align: top;\n",
       "    }\n",
       "\n",
       "    .dataframe thead th {\n",
       "        text-align: right;\n",
       "    }\n",
       "</style>\n",
       "<table border=\"1\" class=\"dataframe\">\n",
       "  <thead>\n",
       "    <tr style=\"text-align: right;\">\n",
       "      <th></th>\n",
       "      <th>customer</th>\n",
       "      <th>accountid</th>\n",
       "      <th>AMOUNT_LCY</th>\n",
       "    </tr>\n",
       "  </thead>\n",
       "  <tbody>\n",
       "    <tr>\n",
       "      <th>count</th>\n",
       "      <td>2.198430e+05</td>\n",
       "      <td>2.198430e+05</td>\n",
       "      <td>2.198430e+05</td>\n",
       "    </tr>\n",
       "    <tr>\n",
       "      <th>mean</th>\n",
       "      <td>1.503769e+07</td>\n",
       "      <td>1.508178e+07</td>\n",
       "      <td>3.075755e+05</td>\n",
       "    </tr>\n",
       "    <tr>\n",
       "      <th>std</th>\n",
       "      <td>2.879402e+06</td>\n",
       "      <td>2.911228e+06</td>\n",
       "      <td>9.501212e+06</td>\n",
       "    </tr>\n",
       "    <tr>\n",
       "      <th>min</th>\n",
       "      <td>1.000006e+07</td>\n",
       "      <td>1.000101e+07</td>\n",
       "      <td>1.000000e-02</td>\n",
       "    </tr>\n",
       "    <tr>\n",
       "      <th>25%</th>\n",
       "      <td>1.262833e+07</td>\n",
       "      <td>1.264174e+07</td>\n",
       "      <td>2.828000e+03</td>\n",
       "    </tr>\n",
       "    <tr>\n",
       "      <th>50%</th>\n",
       "      <td>1.504095e+07</td>\n",
       "      <td>1.500019e+07</td>\n",
       "      <td>7.282100e+03</td>\n",
       "    </tr>\n",
       "    <tr>\n",
       "      <th>75%</th>\n",
       "      <td>1.755726e+07</td>\n",
       "      <td>1.766098e+07</td>\n",
       "      <td>2.828000e+04</td>\n",
       "    </tr>\n",
       "    <tr>\n",
       "      <th>max</th>\n",
       "      <td>1.999980e+07</td>\n",
       "      <td>1.999918e+07</td>\n",
       "      <td>2.018167e+09</td>\n",
       "    </tr>\n",
       "  </tbody>\n",
       "</table>\n",
       "</div>"
      ],
      "text/plain": [
       "           customer     accountid    AMOUNT_LCY\n",
       "count  2.198430e+05  2.198430e+05  2.198430e+05\n",
       "mean   1.503769e+07  1.508178e+07  3.075755e+05\n",
       "std    2.879402e+06  2.911228e+06  9.501212e+06\n",
       "min    1.000006e+07  1.000101e+07  1.000000e-02\n",
       "25%    1.262833e+07  1.264174e+07  2.828000e+03\n",
       "50%    1.504095e+07  1.500019e+07  7.282100e+03\n",
       "75%    1.755726e+07  1.766098e+07  2.828000e+04\n",
       "max    1.999980e+07  1.999918e+07  2.018167e+09"
      ]
     },
     "execution_count": 13,
     "metadata": {},
     "output_type": "execute_result"
    }
   ],
   "source": [
    "transactions_data.describe()"
   ]
  },
  {
   "cell_type": "code",
   "execution_count": 14,
   "id": "32eee356",
   "metadata": {},
   "outputs": [
    {
     "data": {
      "text/html": [
       "<div>\n",
       "<style scoped>\n",
       "    .dataframe tbody tr th:only-of-type {\n",
       "        vertical-align: middle;\n",
       "    }\n",
       "\n",
       "    .dataframe tbody tr th {\n",
       "        vertical-align: top;\n",
       "    }\n",
       "\n",
       "    .dataframe thead th {\n",
       "        text-align: right;\n",
       "    }\n",
       "</style>\n",
       "<table border=\"1\" class=\"dataframe\">\n",
       "  <thead>\n",
       "    <tr style=\"text-align: right;\">\n",
       "      <th></th>\n",
       "      <th>customer</th>\n",
       "      <th>accountid</th>\n",
       "      <th>workingbalance</th>\n",
       "      <th>onebank</th>\n",
       "      <th>onepay</th>\n",
       "      <th>ussd</th>\n",
       "    </tr>\n",
       "  </thead>\n",
       "  <tbody>\n",
       "    <tr>\n",
       "      <th>count</th>\n",
       "      <td>5.000000e+03</td>\n",
       "      <td>5.000000e+03</td>\n",
       "      <td>5.000000e+03</td>\n",
       "      <td>5000.000000</td>\n",
       "      <td>5000.000000</td>\n",
       "      <td>5000.000000</td>\n",
       "    </tr>\n",
       "    <tr>\n",
       "      <th>mean</th>\n",
       "      <td>1.501572e+07</td>\n",
       "      <td>1.496175e+07</td>\n",
       "      <td>-3.110929e+05</td>\n",
       "      <td>0.094400</td>\n",
       "      <td>0.169400</td>\n",
       "      <td>0.178600</td>\n",
       "    </tr>\n",
       "    <tr>\n",
       "      <th>std</th>\n",
       "      <td>2.917798e+06</td>\n",
       "      <td>2.895771e+06</td>\n",
       "      <td>2.796984e+07</td>\n",
       "      <td>0.292414</td>\n",
       "      <td>0.375142</td>\n",
       "      <td>0.383055</td>\n",
       "    </tr>\n",
       "    <tr>\n",
       "      <th>min</th>\n",
       "      <td>1.000006e+07</td>\n",
       "      <td>1.000002e+07</td>\n",
       "      <td>-1.972557e+09</td>\n",
       "      <td>0.000000</td>\n",
       "      <td>0.000000</td>\n",
       "      <td>0.000000</td>\n",
       "    </tr>\n",
       "    <tr>\n",
       "      <th>25%</th>\n",
       "      <td>1.245201e+07</td>\n",
       "      <td>1.243579e+07</td>\n",
       "      <td>9.337750e+01</td>\n",
       "      <td>0.000000</td>\n",
       "      <td>0.000000</td>\n",
       "      <td>0.000000</td>\n",
       "    </tr>\n",
       "    <tr>\n",
       "      <th>50%</th>\n",
       "      <td>1.499100e+07</td>\n",
       "      <td>1.493074e+07</td>\n",
       "      <td>9.578150e+02</td>\n",
       "      <td>0.000000</td>\n",
       "      <td>0.000000</td>\n",
       "      <td>0.000000</td>\n",
       "    </tr>\n",
       "    <tr>\n",
       "      <th>75%</th>\n",
       "      <td>1.754916e+07</td>\n",
       "      <td>1.747498e+07</td>\n",
       "      <td>5.389932e+03</td>\n",
       "      <td>0.000000</td>\n",
       "      <td>0.000000</td>\n",
       "      <td>0.000000</td>\n",
       "    </tr>\n",
       "    <tr>\n",
       "      <th>max</th>\n",
       "      <td>1.999880e+07</td>\n",
       "      <td>1.999780e+07</td>\n",
       "      <td>1.020330e+08</td>\n",
       "      <td>1.000000</td>\n",
       "      <td>1.000000</td>\n",
       "      <td>1.000000</td>\n",
       "    </tr>\n",
       "  </tbody>\n",
       "</table>\n",
       "</div>"
      ],
      "text/plain": [
       "           customer     accountid  workingbalance      onebank       onepay  \\\n",
       "count  5.000000e+03  5.000000e+03    5.000000e+03  5000.000000  5000.000000   \n",
       "mean   1.501572e+07  1.496175e+07   -3.110929e+05     0.094400     0.169400   \n",
       "std    2.917798e+06  2.895771e+06    2.796984e+07     0.292414     0.375142   \n",
       "min    1.000006e+07  1.000002e+07   -1.972557e+09     0.000000     0.000000   \n",
       "25%    1.245201e+07  1.243579e+07    9.337750e+01     0.000000     0.000000   \n",
       "50%    1.499100e+07  1.493074e+07    9.578150e+02     0.000000     0.000000   \n",
       "75%    1.754916e+07  1.747498e+07    5.389932e+03     0.000000     0.000000   \n",
       "max    1.999880e+07  1.999780e+07    1.020330e+08     1.000000     1.000000   \n",
       "\n",
       "              ussd  \n",
       "count  5000.000000  \n",
       "mean      0.178600  \n",
       "std       0.383055  \n",
       "min       0.000000  \n",
       "25%       0.000000  \n",
       "50%       0.000000  \n",
       "75%       0.000000  \n",
       "max       1.000000  "
      ]
     },
     "execution_count": 14,
     "metadata": {},
     "output_type": "execute_result"
    }
   ],
   "source": [
    "customers_data.describe()"
   ]
  },
  {
   "cell_type": "code",
   "execution_count": 15,
   "id": "bcc41395",
   "metadata": {},
   "outputs": [
    {
     "data": {
      "text/plain": [
       "D    156537\n",
       "C     63306\n",
       "Name: deb_cre_ind, dtype: int64"
      ]
     },
     "execution_count": 15,
     "metadata": {},
     "output_type": "execute_result"
    }
   ],
   "source": [
    "transactions_data[\"deb_cre_ind\"].value_counts()"
   ]
  },
  {
   "cell_type": "code",
   "execution_count": 16,
   "id": "ad11709e",
   "metadata": {},
   "outputs": [
    {
     "data": {
      "text/plain": [
       "TRF :                            87004\n",
       "TRANSFER IN                      54073\n",
       "CASH WITHDRAWAL                  32130\n",
       "POINT OF SALE PURCHASE           23079\n",
       "BILL PYMNT-FUNDS TRANSFER        12684\n",
       "DEPOSIT CASH (LOCAL CURRENCY)     3717\n",
       "TRANSFER OUT                      3263\n",
       "NEFT CREDITS                      1200\n",
       "ETRANZACT PAYMENT                  791\n",
       "AA LOAN REPAYMENT                  562\n",
       "CASH WITHDRAWAL(LOCAL CCY)         343\n",
       "STANDING ORDER                     273\n",
       "OUTWARD CHEQUE PAYMENT             162\n",
       "CHEQUE                             128\n",
       "DRAFT COMMISSION + VAT             121\n",
       "CHEQUE DEPOSIT (INHOUSE)            93\n",
       "ACCOUNTS TRANSFER                   80\n",
       "AA DEBIT SETTLE ARRANGEMENT         40\n",
       "CASH WITHDRAWAL FOREIGN CCY         37\n",
       "CREDIT ARRANGEMENT                  28\n",
       "NEW DEPOSIT                         16\n",
       "DEPOSIT WITHDRAWAL (TRANSFER)        9\n",
       "AA LOAN PAYOFF                       6\n",
       "STERLING INWARD TELEX PAYMENT        3\n",
       "Name: transactiondescription, dtype: int64"
      ]
     },
     "execution_count": 16,
     "metadata": {},
     "output_type": "execute_result"
    }
   ],
   "source": [
    "transactions_data[\"transactiondescription\"].value_counts()"
   ]
  },
  {
   "cell_type": "code",
   "execution_count": 17,
   "id": "fd2105be",
   "metadata": {},
   "outputs": [
    {
     "data": {
      "text/plain": [
       "Dormant     3260\n",
       "Active      1456\n",
       "Inactive     284\n",
       "Name: account_status, dtype: int64"
      ]
     },
     "execution_count": 17,
     "metadata": {},
     "output_type": "execute_result"
    }
   ],
   "source": [
    "customers_data[\"account_status\"].value_counts()"
   ]
  },
  {
   "cell_type": "code",
   "execution_count": 18,
   "id": "d761b4a7",
   "metadata": {},
   "outputs": [
    {
     "data": {
      "text/plain": [
       "Savings Accounts Group               3769\n",
       "Current Accounts Group                858\n",
       "Domiciliary Current Account Group     141\n",
       "Retail Loans Individual Group          61\n",
       "Domiciliary Savings Account Group      53\n",
       "Term Deposits Group                    26\n",
       "Corporate Loans Group                  17\n",
       "HRM Loans Group                         4\n",
       "Small Business Loans Group              1\n",
       "Customer Collection a/c Group           1\n",
       "Name: product_group_desc, dtype: int64"
      ]
     },
     "execution_count": 18,
     "metadata": {},
     "output_type": "execute_result"
    }
   ],
   "source": [
    "customers_data[\"product_group_desc\"].value_counts()"
   ]
  },
  {
   "cell_type": "code",
   "execution_count": 19,
   "id": "8746fc68",
   "metadata": {},
   "outputs": [
    {
     "data": {
      "text/plain": [
       "Individual Customer                4106\n",
       "Corporate Customer                  332\n",
       "Salary Customer                     183\n",
       "Minor                               147\n",
       "Enterprise Customer                 100\n",
       "MSME                                 39\n",
       "Individual Staff                     38\n",
       "Youth Corper                         20\n",
       "Internal Customer                    15\n",
       "Not for Profit                        7\n",
       "EMBASSY/HIGH COMMISSION               4\n",
       "DSE                                   3\n",
       "Joint Customers                       2\n",
       "Government/MDA Customer (FGN)         1\n",
       "Government/MDA Customer (State)       1\n",
       "Student                               1\n",
       "Trainee                               1\n",
       "Name: customer_type, dtype: int64"
      ]
     },
     "execution_count": 19,
     "metadata": {},
     "output_type": "execute_result"
    }
   ],
   "source": [
    "customers_data[\"customer_type\"].value_counts()"
   ]
  },
  {
   "cell_type": "code",
   "execution_count": 20,
   "id": "adf83703",
   "metadata": {},
   "outputs": [
    {
     "data": {
      "text/plain": [
       "Active        1479\n",
       "Expired        312\n",
       "Restricted      82\n",
       "Name: card_status, dtype: int64"
      ]
     },
     "execution_count": 20,
     "metadata": {},
     "output_type": "execute_result"
    }
   ],
   "source": [
    "customers_data[\"card_status\"].value_counts()"
   ]
  },
  {
   "cell_type": "code",
   "execution_count": 21,
   "id": "7a7ca705",
   "metadata": {},
   "outputs": [
    {
     "data": {
      "text/plain": [
       "0    4528\n",
       "1     472\n",
       "Name: onebank, dtype: int64"
      ]
     },
     "execution_count": 21,
     "metadata": {},
     "output_type": "execute_result"
    }
   ],
   "source": [
    "customers_data[\"onebank\"].value_counts()"
   ]
  },
  {
   "cell_type": "code",
   "execution_count": 22,
   "id": "e46474f2",
   "metadata": {},
   "outputs": [
    {
     "data": {
      "text/plain": [
       "0    4153\n",
       "1     847\n",
       "Name: onepay, dtype: int64"
      ]
     },
     "execution_count": 22,
     "metadata": {},
     "output_type": "execute_result"
    }
   ],
   "source": [
    "customers_data[\"onepay\"].value_counts()"
   ]
  },
  {
   "cell_type": "code",
   "execution_count": 23,
   "id": "07def3f5",
   "metadata": {},
   "outputs": [
    {
     "data": {
      "text/plain": [
       "0    4107\n",
       "1     893\n",
       "Name: ussd, dtype: int64"
      ]
     },
     "execution_count": 23,
     "metadata": {},
     "output_type": "execute_result"
    }
   ],
   "source": [
    "customers_data[\"ussd\"].value_counts()"
   ]
  },
  {
   "cell_type": "code",
   "execution_count": 24,
   "id": "7ba8aebf",
   "metadata": {},
   "outputs": [
    {
     "data": {
      "text/plain": [
       "customer                     0\n",
       "accountid                    0\n",
       "AMOUNT_LCY                   0\n",
       "Trans_ID                  4654\n",
       "Trans_timestamp              0\n",
       "deb_cre_ind                  0\n",
       "narrative                  594\n",
       "transactiondescription       1\n",
       "dtype: int64"
      ]
     },
     "execution_count": 24,
     "metadata": {},
     "output_type": "execute_result"
    }
   ],
   "source": [
    "#check for missing values\n",
    "transactions_data.isna().sum()"
   ]
  },
  {
   "cell_type": "code",
   "execution_count": 25,
   "id": "8c4217de",
   "metadata": {},
   "outputs": [
    {
     "data": {
      "text/plain": [
       "customer                 0\n",
       "accountid                0\n",
       "workingbalance           0\n",
       "openingdate              0\n",
       "Restriciton Code      1468\n",
       "address                683\n",
       "email_1               3414\n",
       "account_status           0\n",
       "Maxtransdate             0\n",
       "product_group_desc      69\n",
       "customer_type            0\n",
       "region                   0\n",
       "sector                   0\n",
       "card_status           3127\n",
       "onebank                  0\n",
       "onepay                   0\n",
       "ussd                     0\n",
       "dtype: int64"
      ]
     },
     "execution_count": 25,
     "metadata": {},
     "output_type": "execute_result"
    }
   ],
   "source": [
    "customers_data.isna().sum()"
   ]
  },
  {
   "cell_type": "code",
   "execution_count": 31,
   "id": "19663e84",
   "metadata": {},
   "outputs": [],
   "source": [
    "transactions_data1 = transactions_data.dropna(how = 'all')"
   ]
  },
  {
   "cell_type": "code",
   "execution_count": 32,
   "id": "07f5baf7",
   "metadata": {},
   "outputs": [
    {
     "data": {
      "text/html": [
       "<div>\n",
       "<style scoped>\n",
       "    .dataframe tbody tr th:only-of-type {\n",
       "        vertical-align: middle;\n",
       "    }\n",
       "\n",
       "    .dataframe tbody tr th {\n",
       "        vertical-align: top;\n",
       "    }\n",
       "\n",
       "    .dataframe thead th {\n",
       "        text-align: right;\n",
       "    }\n",
       "</style>\n",
       "<table border=\"1\" class=\"dataframe\">\n",
       "  <thead>\n",
       "    <tr style=\"text-align: right;\">\n",
       "      <th></th>\n",
       "      <th>customer</th>\n",
       "      <th>accountid</th>\n",
       "      <th>AMOUNT_LCY</th>\n",
       "      <th>Trans_ID</th>\n",
       "      <th>Trans_timestamp</th>\n",
       "      <th>deb_cre_ind</th>\n",
       "      <th>narrative</th>\n",
       "      <th>transactiondescription</th>\n",
       "    </tr>\n",
       "  </thead>\n",
       "  <tbody>\n",
       "    <tr>\n",
       "      <th>0</th>\n",
       "      <td>18354812</td>\n",
       "      <td>19888479</td>\n",
       "      <td>321685.00</td>\n",
       "      <td>FT202730YK10</td>\n",
       "      <td>2020-09-29 10:16:04.000</td>\n",
       "      <td>C</td>\n",
       "      <td>CHOICE INTERNATIONAL FORWARDING NIG?EMEKA LINU...</td>\n",
       "      <td>TRANSFER IN</td>\n",
       "    </tr>\n",
       "    <tr>\n",
       "      <th>1</th>\n",
       "      <td>12174614</td>\n",
       "      <td>16476167</td>\n",
       "      <td>1555.40</td>\n",
       "      <td>FT202661P8Q7</td>\n",
       "      <td>2020-09-22 15:47:31.000</td>\n",
       "      <td>C</td>\n",
       "      <td>BANK?NIP From 11000720092216005928289544?8107 ...</td>\n",
       "      <td>TRANSFER IN</td>\n",
       "    </tr>\n",
       "    <tr>\n",
       "      <th>2</th>\n",
       "      <td>13975321</td>\n",
       "      <td>15133256</td>\n",
       "      <td>331922.37</td>\n",
       "      <td>FT20274MBLN1</td>\n",
       "      <td>2020-09-30 15:05:40.997</td>\n",
       "      <td>C</td>\n",
       "      <td>BANK]SEPTEMBER SALARY 030202093421349</td>\n",
       "      <td>TRANSFER IN</td>\n",
       "    </tr>\n",
       "    <tr>\n",
       "      <th>3</th>\n",
       "      <td>13268397</td>\n",
       "      <td>13323967</td>\n",
       "      <td>28280.00</td>\n",
       "      <td>FT20266W5M7H</td>\n",
       "      <td>2020-09-22 07:30:57.000</td>\n",
       "      <td>C</td>\n",
       "      <td>BANK?NIP From 00001420092208270929929956?7597 ...</td>\n",
       "      <td>TRANSFER IN</td>\n",
       "    </tr>\n",
       "    <tr>\n",
       "      <th>4</th>\n",
       "      <td>11773959</td>\n",
       "      <td>14430794</td>\n",
       "      <td>363398.00</td>\n",
       "      <td>FT20268S7T8C</td>\n",
       "      <td>2020-09-24 11:08:32.000</td>\n",
       "      <td>C</td>\n",
       "      <td>BANK?NIP From 00001520092411552900116649?4596 ...</td>\n",
       "      <td>TRANSFER IN</td>\n",
       "    </tr>\n",
       "    <tr>\n",
       "      <th>...</th>\n",
       "      <td>...</td>\n",
       "      <td>...</td>\n",
       "      <td>...</td>\n",
       "      <td>...</td>\n",
       "      <td>...</td>\n",
       "      <td>...</td>\n",
       "      <td>...</td>\n",
       "      <td>...</td>\n",
       "    </tr>\n",
       "    <tr>\n",
       "      <th>219838</th>\n",
       "      <td>16883666</td>\n",
       "      <td>11244205</td>\n",
       "      <td>6363.00</td>\n",
       "      <td>FT20245VRPD0</td>\n",
       "      <td>2020-09-01 07:10:04.000</td>\n",
       "      <td>C</td>\n",
       "      <td>BANK?NIP From 00001620090108061900003269?0223 ...</td>\n",
       "      <td>TRANSFER IN</td>\n",
       "    </tr>\n",
       "    <tr>\n",
       "      <th>219839</th>\n",
       "      <td>10499247</td>\n",
       "      <td>18531041</td>\n",
       "      <td>2828.00</td>\n",
       "      <td>FT202484SNHZ</td>\n",
       "      <td>2020-09-04 10:58:40.000</td>\n",
       "      <td>C</td>\n",
       "      <td>BANK?NIP From 10000420090410393510020784?0304 ...</td>\n",
       "      <td>TRANSFER IN</td>\n",
       "    </tr>\n",
       "    <tr>\n",
       "      <th>219840</th>\n",
       "      <td>13383118</td>\n",
       "      <td>17545077</td>\n",
       "      <td>26823.58</td>\n",
       "      <td>FT202453K6YS</td>\n",
       "      <td>2020-09-01 12:03:45.000</td>\n",
       "      <td>D</td>\n",
       "      <td>MANAGERS CHEQUES - NG0020031?UZOCHUKWU CYPRIAN...</td>\n",
       "      <td>TRANSFER OUT</td>\n",
       "    </tr>\n",
       "    <tr>\n",
       "      <th>219841</th>\n",
       "      <td>13993053</td>\n",
       "      <td>17043431</td>\n",
       "      <td>707000.00</td>\n",
       "      <td>FT202530ZQP7</td>\n",
       "      <td>2020-09-08 20:22:51.000</td>\n",
       "      <td>D</td>\n",
       "      <td>NIBSS INSTANT PAYMENT TSS?Online to GTBank Plc...</td>\n",
       "      <td>TRF :</td>\n",
       "    </tr>\n",
       "    <tr>\n",
       "      <th>219842</th>\n",
       "      <td>19565485</td>\n",
       "      <td>18331568</td>\n",
       "      <td>509040.00</td>\n",
       "      <td>BKOT20253NTD2D</td>\n",
       "      <td>2020-09-09 14:26:29.000</td>\n",
       "      <td>C</td>\n",
       "      <td>C</td>\n",
       "      <td>NaN</td>\n",
       "    </tr>\n",
       "  </tbody>\n",
       "</table>\n",
       "<p>219843 rows × 8 columns</p>\n",
       "</div>"
      ],
      "text/plain": [
       "        customer  accountid  AMOUNT_LCY        Trans_ID  \\\n",
       "0       18354812   19888479   321685.00    FT202730YK10   \n",
       "1       12174614   16476167     1555.40    FT202661P8Q7   \n",
       "2       13975321   15133256   331922.37    FT20274MBLN1   \n",
       "3       13268397   13323967    28280.00    FT20266W5M7H   \n",
       "4       11773959   14430794   363398.00    FT20268S7T8C   \n",
       "...          ...        ...         ...             ...   \n",
       "219838  16883666   11244205     6363.00    FT20245VRPD0   \n",
       "219839  10499247   18531041     2828.00    FT202484SNHZ   \n",
       "219840  13383118   17545077    26823.58    FT202453K6YS   \n",
       "219841  13993053   17043431   707000.00    FT202530ZQP7   \n",
       "219842  19565485   18331568   509040.00  BKOT20253NTD2D   \n",
       "\n",
       "                Trans_timestamp deb_cre_ind  \\\n",
       "0       2020-09-29 10:16:04.000           C   \n",
       "1       2020-09-22 15:47:31.000           C   \n",
       "2       2020-09-30 15:05:40.997           C   \n",
       "3       2020-09-22 07:30:57.000           C   \n",
       "4       2020-09-24 11:08:32.000           C   \n",
       "...                         ...         ...   \n",
       "219838  2020-09-01 07:10:04.000           C   \n",
       "219839  2020-09-04 10:58:40.000           C   \n",
       "219840  2020-09-01 12:03:45.000           D   \n",
       "219841  2020-09-08 20:22:51.000           D   \n",
       "219842  2020-09-09 14:26:29.000           C   \n",
       "\n",
       "                                                narrative  \\\n",
       "0       CHOICE INTERNATIONAL FORWARDING NIG?EMEKA LINU...   \n",
       "1       BANK?NIP From 11000720092216005928289544?8107 ...   \n",
       "2                   BANK]SEPTEMBER SALARY 030202093421349   \n",
       "3       BANK?NIP From 00001420092208270929929956?7597 ...   \n",
       "4       BANK?NIP From 00001520092411552900116649?4596 ...   \n",
       "...                                                   ...   \n",
       "219838  BANK?NIP From 00001620090108061900003269?0223 ...   \n",
       "219839  BANK?NIP From 10000420090410393510020784?0304 ...   \n",
       "219840  MANAGERS CHEQUES - NG0020031?UZOCHUKWU CYPRIAN...   \n",
       "219841  NIBSS INSTANT PAYMENT TSS?Online to GTBank Plc...   \n",
       "219842                                                  C   \n",
       "\n",
       "       transactiondescription  \n",
       "0                 TRANSFER IN  \n",
       "1                 TRANSFER IN  \n",
       "2                 TRANSFER IN  \n",
       "3                 TRANSFER IN  \n",
       "4                 TRANSFER IN  \n",
       "...                       ...  \n",
       "219838            TRANSFER IN  \n",
       "219839            TRANSFER IN  \n",
       "219840           TRANSFER OUT  \n",
       "219841                  TRF :  \n",
       "219842                    NaN  \n",
       "\n",
       "[219843 rows x 8 columns]"
      ]
     },
     "execution_count": 32,
     "metadata": {},
     "output_type": "execute_result"
    }
   ],
   "source": [
    "transactions_data1"
   ]
  },
  {
   "cell_type": "code",
   "execution_count": 33,
   "id": "0045b55c",
   "metadata": {},
   "outputs": [],
   "source": [
    "customers_data1 = customers_data.dropna(how = 'all')"
   ]
  },
  {
   "cell_type": "code",
   "execution_count": 34,
   "id": "10b31c44",
   "metadata": {},
   "outputs": [
    {
     "data": {
      "text/html": [
       "<div>\n",
       "<style scoped>\n",
       "    .dataframe tbody tr th:only-of-type {\n",
       "        vertical-align: middle;\n",
       "    }\n",
       "\n",
       "    .dataframe tbody tr th {\n",
       "        vertical-align: top;\n",
       "    }\n",
       "\n",
       "    .dataframe thead th {\n",
       "        text-align: right;\n",
       "    }\n",
       "</style>\n",
       "<table border=\"1\" class=\"dataframe\">\n",
       "  <thead>\n",
       "    <tr style=\"text-align: right;\">\n",
       "      <th></th>\n",
       "      <th>customer</th>\n",
       "      <th>accountid</th>\n",
       "      <th>workingbalance</th>\n",
       "      <th>openingdate</th>\n",
       "      <th>Restriciton Code</th>\n",
       "      <th>address</th>\n",
       "      <th>email_1</th>\n",
       "      <th>account_status</th>\n",
       "      <th>Maxtransdate</th>\n",
       "      <th>product_group_desc</th>\n",
       "      <th>customer_type</th>\n",
       "      <th>region</th>\n",
       "      <th>sector</th>\n",
       "      <th>card_status</th>\n",
       "      <th>onebank</th>\n",
       "      <th>onepay</th>\n",
       "      <th>ussd</th>\n",
       "    </tr>\n",
       "  </thead>\n",
       "  <tbody>\n",
       "    <tr>\n",
       "      <th>0</th>\n",
       "      <td>15045151</td>\n",
       "      <td>14607892</td>\n",
       "      <td>88.01</td>\n",
       "      <td>2016-06-10</td>\n",
       "      <td>25</td>\n",
       "      <td>NaN</td>\n",
       "      <td>NaN</td>\n",
       "      <td>Dormant</td>\n",
       "      <td>2020-10-27</td>\n",
       "      <td>Savings Accounts Group</td>\n",
       "      <td>Individual Customer</td>\n",
       "      <td>APAPA &amp; BEYOND</td>\n",
       "      <td>ADMIN AND SUPPORT SERVICE ACT.</td>\n",
       "      <td>NaN</td>\n",
       "      <td>0</td>\n",
       "      <td>0</td>\n",
       "      <td>0</td>\n",
       "    </tr>\n",
       "    <tr>\n",
       "      <th>1</th>\n",
       "      <td>16273893</td>\n",
       "      <td>11143214</td>\n",
       "      <td>25293.31</td>\n",
       "      <td>2016-10-28</td>\n",
       "      <td>NaN</td>\n",
       "      <td>IJESHA, LAGOS</td>\n",
       "      <td>NaN</td>\n",
       "      <td>Active</td>\n",
       "      <td>2022-03-23</td>\n",
       "      <td>Savings Accounts Group</td>\n",
       "      <td>Individual Customer</td>\n",
       "      <td>APAPA &amp; BEYOND</td>\n",
       "      <td>GENERAL</td>\n",
       "      <td>Active</td>\n",
       "      <td>0</td>\n",
       "      <td>0</td>\n",
       "      <td>1</td>\n",
       "    </tr>\n",
       "    <tr>\n",
       "      <th>2</th>\n",
       "      <td>17261366</td>\n",
       "      <td>15599591</td>\n",
       "      <td>3328.29</td>\n",
       "      <td>2016-09-22</td>\n",
       "      <td>19$23$25</td>\n",
       "      <td>AJEGUNLE AJEROMI</td>\n",
       "      <td>NaN</td>\n",
       "      <td>Dormant</td>\n",
       "      <td>2020-10-14</td>\n",
       "      <td>Savings Accounts Group</td>\n",
       "      <td>Individual Customer</td>\n",
       "      <td>APAPA &amp; BEYOND</td>\n",
       "      <td>GENERAL</td>\n",
       "      <td>NaN</td>\n",
       "      <td>0</td>\n",
       "      <td>0</td>\n",
       "      <td>0</td>\n",
       "    </tr>\n",
       "    <tr>\n",
       "      <th>3</th>\n",
       "      <td>14006532</td>\n",
       "      <td>17841524</td>\n",
       "      <td>2110.85</td>\n",
       "      <td>2021-01-21</td>\n",
       "      <td>NaN</td>\n",
       "      <td>STOP KIRIKIRI TOWN</td>\n",
       "      <td>NaN</td>\n",
       "      <td>Active</td>\n",
       "      <td>2022-03-08</td>\n",
       "      <td>Current Accounts Group</td>\n",
       "      <td>Individual Customer</td>\n",
       "      <td>APAPA &amp; BEYOND</td>\n",
       "      <td>GENERAL</td>\n",
       "      <td>NaN</td>\n",
       "      <td>0</td>\n",
       "      <td>0</td>\n",
       "      <td>0</td>\n",
       "    </tr>\n",
       "    <tr>\n",
       "      <th>4</th>\n",
       "      <td>19087216</td>\n",
       "      <td>11994865</td>\n",
       "      <td>88.01</td>\n",
       "      <td>2016-06-15</td>\n",
       "      <td>25</td>\n",
       "      <td>OLODI APAPA</td>\n",
       "      <td>NaN</td>\n",
       "      <td>Dormant</td>\n",
       "      <td>2020-10-20</td>\n",
       "      <td>Savings Accounts Group</td>\n",
       "      <td>Individual Customer</td>\n",
       "      <td>APAPA &amp; BEYOND</td>\n",
       "      <td>ADMIN AND SUPPORT SERVICE ACT.</td>\n",
       "      <td>NaN</td>\n",
       "      <td>0</td>\n",
       "      <td>0</td>\n",
       "      <td>0</td>\n",
       "    </tr>\n",
       "    <tr>\n",
       "      <th>...</th>\n",
       "      <td>...</td>\n",
       "      <td>...</td>\n",
       "      <td>...</td>\n",
       "      <td>...</td>\n",
       "      <td>...</td>\n",
       "      <td>...</td>\n",
       "      <td>...</td>\n",
       "      <td>...</td>\n",
       "      <td>...</td>\n",
       "      <td>...</td>\n",
       "      <td>...</td>\n",
       "      <td>...</td>\n",
       "      <td>...</td>\n",
       "      <td>...</td>\n",
       "      <td>...</td>\n",
       "      <td>...</td>\n",
       "      <td>...</td>\n",
       "    </tr>\n",
       "    <tr>\n",
       "      <th>4995</th>\n",
       "      <td>18588052</td>\n",
       "      <td>11067455</td>\n",
       "      <td>2154.13</td>\n",
       "      <td>2011-08-02</td>\n",
       "      <td>23$25</td>\n",
       "      <td>AJEGUNLE APAPA</td>\n",
       "      <td>NaN</td>\n",
       "      <td>Dormant</td>\n",
       "      <td>2020-10-20</td>\n",
       "      <td>Savings Accounts Group</td>\n",
       "      <td>Individual Customer</td>\n",
       "      <td>APAPA &amp; BEYOND</td>\n",
       "      <td>GENERAL</td>\n",
       "      <td>Active</td>\n",
       "      <td>0</td>\n",
       "      <td>0</td>\n",
       "      <td>0</td>\n",
       "    </tr>\n",
       "    <tr>\n",
       "      <th>4996</th>\n",
       "      <td>17147719</td>\n",
       "      <td>19709088</td>\n",
       "      <td>746.68</td>\n",
       "      <td>2017-10-24</td>\n",
       "      <td>NaN</td>\n",
       "      <td>4</td>\n",
       "      <td>ygxbyvyscf@sterling.com</td>\n",
       "      <td>Active</td>\n",
       "      <td>2022-03-10</td>\n",
       "      <td>Savings Accounts Group</td>\n",
       "      <td>Individual Customer</td>\n",
       "      <td>APAPA &amp; BEYOND</td>\n",
       "      <td>GENERAL</td>\n",
       "      <td>Active</td>\n",
       "      <td>1</td>\n",
       "      <td>1</td>\n",
       "      <td>0</td>\n",
       "    </tr>\n",
       "    <tr>\n",
       "      <th>4997</th>\n",
       "      <td>16658290</td>\n",
       "      <td>14043745</td>\n",
       "      <td>26069.59</td>\n",
       "      <td>2014-06-23</td>\n",
       "      <td>NaN</td>\n",
       "      <td>LAGOS</td>\n",
       "      <td>NaN</td>\n",
       "      <td>Active</td>\n",
       "      <td>2022-01-05</td>\n",
       "      <td>Savings Accounts Group</td>\n",
       "      <td>Individual Customer</td>\n",
       "      <td>APAPA &amp; BEYOND</td>\n",
       "      <td>GENERAL</td>\n",
       "      <td>NaN</td>\n",
       "      <td>0</td>\n",
       "      <td>0</td>\n",
       "      <td>0</td>\n",
       "    </tr>\n",
       "    <tr>\n",
       "      <th>4998</th>\n",
       "      <td>13128894</td>\n",
       "      <td>16836252</td>\n",
       "      <td>34.93</td>\n",
       "      <td>2018-08-31</td>\n",
       "      <td>25</td>\n",
       "      <td>NO. 151 SHIBIRI ROAD</td>\n",
       "      <td>NaN</td>\n",
       "      <td>Inactive</td>\n",
       "      <td>2021-06-28</td>\n",
       "      <td>Current Accounts Group</td>\n",
       "      <td>Salary Customer</td>\n",
       "      <td>APAPA &amp; BEYOND</td>\n",
       "      <td>GENERAL</td>\n",
       "      <td>Active</td>\n",
       "      <td>0</td>\n",
       "      <td>1</td>\n",
       "      <td>1</td>\n",
       "    </tr>\n",
       "    <tr>\n",
       "      <th>4999</th>\n",
       "      <td>12518536</td>\n",
       "      <td>18919263</td>\n",
       "      <td>18348.19</td>\n",
       "      <td>2001-03-02</td>\n",
       "      <td>23$25</td>\n",
       "      <td>LAGOS</td>\n",
       "      <td>NaN</td>\n",
       "      <td>Dormant</td>\n",
       "      <td>2020-10-15</td>\n",
       "      <td>Savings Accounts Group</td>\n",
       "      <td>Individual Customer</td>\n",
       "      <td>APAPA &amp; BEYOND</td>\n",
       "      <td>GOVERNMENT</td>\n",
       "      <td>NaN</td>\n",
       "      <td>0</td>\n",
       "      <td>0</td>\n",
       "      <td>0</td>\n",
       "    </tr>\n",
       "  </tbody>\n",
       "</table>\n",
       "<p>5000 rows × 17 columns</p>\n",
       "</div>"
      ],
      "text/plain": [
       "      customer  accountid  workingbalance openingdate Restriciton Code  \\\n",
       "0     15045151   14607892           88.01  2016-06-10               25   \n",
       "1     16273893   11143214        25293.31  2016-10-28              NaN   \n",
       "2     17261366   15599591         3328.29  2016-09-22         19$23$25   \n",
       "3     14006532   17841524         2110.85  2021-01-21              NaN   \n",
       "4     19087216   11994865           88.01  2016-06-15               25   \n",
       "...        ...        ...             ...         ...              ...   \n",
       "4995  18588052   11067455         2154.13  2011-08-02            23$25   \n",
       "4996  17147719   19709088          746.68  2017-10-24              NaN   \n",
       "4997  16658290   14043745        26069.59  2014-06-23              NaN   \n",
       "4998  13128894   16836252           34.93  2018-08-31               25   \n",
       "4999  12518536   18919263        18348.19  2001-03-02            23$25   \n",
       "\n",
       "                   address                  email_1 account_status  \\\n",
       "0                      NaN                      NaN        Dormant   \n",
       "1            IJESHA, LAGOS                      NaN         Active   \n",
       "2         AJEGUNLE AJEROMI                      NaN        Dormant   \n",
       "3       STOP KIRIKIRI TOWN                      NaN         Active   \n",
       "4              OLODI APAPA                      NaN        Dormant   \n",
       "...                    ...                      ...            ...   \n",
       "4995        AJEGUNLE APAPA                      NaN        Dormant   \n",
       "4996                     4  ygxbyvyscf@sterling.com         Active   \n",
       "4997                 LAGOS                      NaN         Active   \n",
       "4998  NO. 151 SHIBIRI ROAD                      NaN       Inactive   \n",
       "4999                 LAGOS                      NaN        Dormant   \n",
       "\n",
       "     Maxtransdate      product_group_desc        customer_type  \\\n",
       "0      2020-10-27  Savings Accounts Group  Individual Customer   \n",
       "1      2022-03-23  Savings Accounts Group  Individual Customer   \n",
       "2      2020-10-14  Savings Accounts Group  Individual Customer   \n",
       "3      2022-03-08  Current Accounts Group  Individual Customer   \n",
       "4      2020-10-20  Savings Accounts Group  Individual Customer   \n",
       "...           ...                     ...                  ...   \n",
       "4995   2020-10-20  Savings Accounts Group  Individual Customer   \n",
       "4996   2022-03-10  Savings Accounts Group  Individual Customer   \n",
       "4997   2022-01-05  Savings Accounts Group  Individual Customer   \n",
       "4998   2021-06-28  Current Accounts Group      Salary Customer   \n",
       "4999   2020-10-15  Savings Accounts Group  Individual Customer   \n",
       "\n",
       "              region                          sector card_status  onebank  \\\n",
       "0     APAPA & BEYOND  ADMIN AND SUPPORT SERVICE ACT.         NaN        0   \n",
       "1     APAPA & BEYOND                         GENERAL      Active        0   \n",
       "2     APAPA & BEYOND                         GENERAL         NaN        0   \n",
       "3     APAPA & BEYOND                         GENERAL         NaN        0   \n",
       "4     APAPA & BEYOND  ADMIN AND SUPPORT SERVICE ACT.         NaN        0   \n",
       "...              ...                             ...         ...      ...   \n",
       "4995  APAPA & BEYOND                         GENERAL      Active        0   \n",
       "4996  APAPA & BEYOND                         GENERAL      Active        1   \n",
       "4997  APAPA & BEYOND                         GENERAL         NaN        0   \n",
       "4998  APAPA & BEYOND                         GENERAL      Active        0   \n",
       "4999  APAPA & BEYOND                      GOVERNMENT         NaN        0   \n",
       "\n",
       "      onepay  ussd  \n",
       "0          0     0  \n",
       "1          0     1  \n",
       "2          0     0  \n",
       "3          0     0  \n",
       "4          0     0  \n",
       "...      ...   ...  \n",
       "4995       0     0  \n",
       "4996       1     0  \n",
       "4997       0     0  \n",
       "4998       1     1  \n",
       "4999       0     0  \n",
       "\n",
       "[5000 rows x 17 columns]"
      ]
     },
     "execution_count": 34,
     "metadata": {},
     "output_type": "execute_result"
    }
   ],
   "source": [
    "customers_data1"
   ]
  },
  {
   "cell_type": "code",
   "execution_count": 33,
   "id": "d5e5f281",
   "metadata": {},
   "outputs": [
    {
     "data": {
      "text/plain": [
       "0"
      ]
     },
     "execution_count": 33,
     "metadata": {},
     "output_type": "execute_result"
    }
   ],
   "source": [
    "transactions_data.duplicated().sum()"
   ]
  },
  {
   "cell_type": "code",
   "execution_count": 16,
   "id": "d67326bd",
   "metadata": {},
   "outputs": [
    {
     "data": {
      "text/plain": [
       "0"
      ]
     },
     "execution_count": 16,
     "metadata": {},
     "output_type": "execute_result"
    }
   ],
   "source": [
    "customers_data.duplicated().sum()"
   ]
  },
  {
   "cell_type": "code",
   "execution_count": null,
   "id": "cd11fe47",
   "metadata": {},
   "outputs": [],
   "source": [
    "#variables visual representation"
   ]
  },
  {
   "cell_type": "code",
   "execution_count": 39,
   "id": "601328b4",
   "metadata": {},
   "outputs": [
    {
     "data": {
      "text/plain": [
       "<AxesSubplot:>"
      ]
     },
     "execution_count": 39,
     "metadata": {},
     "output_type": "execute_result"
    },
    {
     "data": {
      "image/png": "[encoded data removed]",
      "text/plain": [
       "<Figure size 432x288 with 1 Axes>"
      ]
     },
     "metadata": {
      "needs_background": "light"
     },
     "output_type": "display_data"
    }
   ],
   "source": [
    "transactions_data1[\"deb_cre_ind\"].value_counts().plot.bar()"
   ]
  },
  {
   "cell_type": "code",
   "execution_count": 41,
   "id": "eb4f66e3",
   "metadata": {},
   "outputs": [
    {
     "data": {
      "text/plain": [
       "<AxesSubplot:>"
      ]
     },
     "execution_count": 41,
     "metadata": {},
     "output_type": "execute_result"
    },
    {
     "data": {
      "image/png": "[encoded data removed]",
      "text/plain": [
       "<Figure size 432x288 with 1 Axes>"
      ]
     },
     "metadata": {
      "needs_background": "light"
     },
     "output_type": "display_data"
    }
   ],
   "source": [
    "customers_data1[\"account_status\"].value_counts().plot.bar()"
   ]
  },
  {
   "cell_type": "code",
   "execution_count": 43,
   "id": "3a23cf59",
   "metadata": {},
   "outputs": [
    {
     "data": {
      "text/plain": [
       "<AxesSubplot:>"
      ]
     },
     "execution_count": 43,
     "metadata": {},
     "output_type": "execute_result"
    },
    {
     "data": {
      "image/png": "[encoded data removed]",
      "text/plain": [
       "<Figure size 432x288 with 1 Axes>"
      ]
     },
     "metadata": {
      "needs_background": "light"
     },
     "output_type": "display_data"
    }
   ],
   "source": [
    "customers_data1[\"customer_type\"].value_counts().plot.bar()"
   ]
  },
  {
   "cell_type": "code",
   "execution_count": 46,
   "id": "5fd95cb0",
   "metadata": {},
   "outputs": [
    {
     "data": {
      "text/plain": [
       "<AxesSubplot:title={'center':'account_status'}>"
      ]
     },
     "execution_count": 46,
     "metadata": {},
     "output_type": "execute_result"
    },
    {
     "data": {
      "image/png": "[encoded data removed]",
      "text/plain": [
       "<Figure size 432x288 with 1 Axes>"
      ]
     },
     "metadata": {
      "needs_background": "light"
     },
     "output_type": "display_data"
    }
   ],
   "source": [
    "customers_data1['account_status'].value_counts(normalize=True).plot.bar(title=\"account_status\")"
   ]
  },
  {
   "cell_type": "code",
   "execution_count": 45,
   "id": "7016b9a3",
   "metadata": {},
   "outputs": [
    {
     "data": {
      "text/plain": [
       "<AxesSubplot:>"
      ]
     },
     "execution_count": 45,
     "metadata": {},
     "output_type": "execute_result"
    },
    {
     "data": {
      "image/png": "[encoded data removed]",
      "text/plain": [
       "<Figure size 432x288 with 1 Axes>"
      ]
     },
     "metadata": {
      "needs_background": "light"
     },
     "output_type": "display_data"
    }
   ],
   "source": [
    "transactions_data1.boxplot(column ='AMOUNT_LCY')"
   ]
  },
  {
   "cell_type": "code",
   "execution_count": 48,
   "id": "5680b9c2",
   "metadata": {},
   "outputs": [
    {
     "data": {
      "text/plain": [
       "<AxesSubplot:title={'center':'card_status'}>"
      ]
     },
     "execution_count": 48,
     "metadata": {},
     "output_type": "execute_result"
    },
    {
     "data": {
      "image/png": "[encoded data removed]",
      "text/plain": [
       "<Figure size 432x288 with 1 Axes>"
      ]
     },
     "metadata": {
      "needs_background": "light"
     },
     "output_type": "display_data"
    }
   ],
   "source": [
    "customers_data1['card_status'].value_counts(normalize=True).plot.bar(title=\"card_status\")"
   ]
  },
  {
   "cell_type": "code",
   "execution_count": 59,
   "id": "8a78764e",
   "metadata": {},
   "outputs": [
    {
     "data": {
      "text/html": [
       "<div>\n",
       "<style scoped>\n",
       "    .dataframe tbody tr th:only-of-type {\n",
       "        vertical-align: middle;\n",
       "    }\n",
       "\n",
       "    .dataframe tbody tr th {\n",
       "        vertical-align: top;\n",
       "    }\n",
       "\n",
       "    .dataframe thead th {\n",
       "        text-align: right;\n",
       "    }\n",
       "</style>\n",
       "<table border=\"1\" class=\"dataframe\">\n",
       "  <thead>\n",
       "    <tr style=\"text-align: right;\">\n",
       "      <th>account_status</th>\n",
       "      <th>Active</th>\n",
       "      <th>Dormant</th>\n",
       "      <th>Inactive</th>\n",
       "    </tr>\n",
       "    <tr>\n",
       "      <th>customer_type</th>\n",
       "      <th></th>\n",
       "      <th></th>\n",
       "      <th></th>\n",
       "    </tr>\n",
       "  </thead>\n",
       "  <tbody>\n",
       "    <tr>\n",
       "      <th>Corporate Customer</th>\n",
       "      <td>88</td>\n",
       "      <td>224</td>\n",
       "      <td>20</td>\n",
       "    </tr>\n",
       "    <tr>\n",
       "      <th>DSE</th>\n",
       "      <td>3</td>\n",
       "      <td>0</td>\n",
       "      <td>0</td>\n",
       "    </tr>\n",
       "    <tr>\n",
       "      <th>EMBASSY/HIGH COMMISSION</th>\n",
       "      <td>3</td>\n",
       "      <td>0</td>\n",
       "      <td>1</td>\n",
       "    </tr>\n",
       "    <tr>\n",
       "      <th>Enterprise Customer</th>\n",
       "      <td>37</td>\n",
       "      <td>59</td>\n",
       "      <td>4</td>\n",
       "    </tr>\n",
       "    <tr>\n",
       "      <th>Government/MDA Customer (FGN)</th>\n",
       "      <td>0</td>\n",
       "      <td>1</td>\n",
       "      <td>0</td>\n",
       "    </tr>\n",
       "    <tr>\n",
       "      <th>Government/MDA Customer (State)</th>\n",
       "      <td>0</td>\n",
       "      <td>1</td>\n",
       "      <td>0</td>\n",
       "    </tr>\n",
       "    <tr>\n",
       "      <th>Individual Customer</th>\n",
       "      <td>1123</td>\n",
       "      <td>2759</td>\n",
       "      <td>224</td>\n",
       "    </tr>\n",
       "    <tr>\n",
       "      <th>Individual Staff</th>\n",
       "      <td>32</td>\n",
       "      <td>6</td>\n",
       "      <td>0</td>\n",
       "    </tr>\n",
       "    <tr>\n",
       "      <th>Internal Customer</th>\n",
       "      <td>12</td>\n",
       "      <td>3</td>\n",
       "      <td>0</td>\n",
       "    </tr>\n",
       "    <tr>\n",
       "      <th>Joint Customers</th>\n",
       "      <td>0</td>\n",
       "      <td>1</td>\n",
       "      <td>1</td>\n",
       "    </tr>\n",
       "    <tr>\n",
       "      <th>MSME</th>\n",
       "      <td>16</td>\n",
       "      <td>20</td>\n",
       "      <td>3</td>\n",
       "    </tr>\n",
       "    <tr>\n",
       "      <th>Minor</th>\n",
       "      <td>27</td>\n",
       "      <td>104</td>\n",
       "      <td>16</td>\n",
       "    </tr>\n",
       "    <tr>\n",
       "      <th>Not for Profit</th>\n",
       "      <td>5</td>\n",
       "      <td>2</td>\n",
       "      <td>0</td>\n",
       "    </tr>\n",
       "    <tr>\n",
       "      <th>Salary Customer</th>\n",
       "      <td>108</td>\n",
       "      <td>64</td>\n",
       "      <td>11</td>\n",
       "    </tr>\n",
       "    <tr>\n",
       "      <th>Student</th>\n",
       "      <td>1</td>\n",
       "      <td>0</td>\n",
       "      <td>0</td>\n",
       "    </tr>\n",
       "    <tr>\n",
       "      <th>Trainee</th>\n",
       "      <td>1</td>\n",
       "      <td>0</td>\n",
       "      <td>0</td>\n",
       "    </tr>\n",
       "    <tr>\n",
       "      <th>Youth Corper</th>\n",
       "      <td>0</td>\n",
       "      <td>16</td>\n",
       "      <td>4</td>\n",
       "    </tr>\n",
       "  </tbody>\n",
       "</table>\n",
       "</div>"
      ],
      "text/plain": [
       "account_status                   Active  Dormant  Inactive\n",
       "customer_type                                             \n",
       "Corporate Customer                   88      224        20\n",
       "DSE                                   3        0         0\n",
       "EMBASSY/HIGH COMMISSION               3        0         1\n",
       "Enterprise Customer                  37       59         4\n",
       "Government/MDA Customer (FGN)         0        1         0\n",
       "Government/MDA Customer (State)       0        1         0\n",
       "Individual Customer                1123     2759       224\n",
       "Individual Staff                     32        6         0\n",
       "Internal Customer                    12        3         0\n",
       "Joint Customers                       0        1         1\n",
       "MSME                                 16       20         3\n",
       "Minor                                27      104        16\n",
       "Not for Profit                        5        2         0\n",
       "Salary Customer                     108       64        11\n",
       "Student                               1        0         0\n",
       "Trainee                               1        0         0\n",
       "Youth Corper                          0       16         4"
      ]
     },
     "execution_count": 59,
     "metadata": {},
     "output_type": "execute_result"
    }
   ],
   "source": [
    "customer_type = pd.crosstab(customers_data1['customer_type'],customers_data1['account_status'])\n",
    "customer_type"
   ]
  },
  {
   "cell_type": "code",
   "execution_count": 50,
   "id": "c53d3596",
   "metadata": {},
   "outputs": [
    {
     "data": {
      "text/plain": [
       "<AxesSubplot:xlabel='region'>"
      ]
     },
     "execution_count": 50,
     "metadata": {},
     "output_type": "execute_result"
    },
    {
     "data": {
      "image/png": "[encoded data removed]",
      "text/plain": [
       "<Figure size 1440x432 with 1 Axes>"
      ]
     },
     "metadata": {
      "needs_background": "light"
     },
     "output_type": "display_data"
    }
   ],
   "source": [
    "region = pd.crosstab(customers_data1['region'],customers_data1['account_status'])\n",
    "region.div(region.sum(1).astype(float),axis=0).plot(kind='bar',stacked=True,figsize=(20,6))"
   ]
  },
  {
   "cell_type": "code",
   "execution_count": 65,
   "id": "8fa7370d",
   "metadata": {},
   "outputs": [
    {
     "data": {
      "text/plain": [
       "<AxesSubplot:xlabel='card_status'>"
      ]
     },
     "execution_count": 65,
     "metadata": {},
     "output_type": "execute_result"
    },
    {
     "data": {
      "image/png": "[encoded data removed]",
      "text/plain": [
       "<Figure size 1440x432 with 1 Axes>"
      ]
     },
     "metadata": {
      "needs_background": "light"
     },
     "output_type": "display_data"
    }
   ],
   "source": [
    "card_status = pd.crosstab(customers_data1['card_status'],customers_data1['account_status'])\n",
    "card_status.div(card_status.sum(1).astype(float),axis=0).plot(kind='bar',stacked=True,figsize=(20,6))"
   ]
  },
  {
   "cell_type": "code",
   "execution_count": 66,
   "id": "0e1e615f",
   "metadata": {},
   "outputs": [
    {
     "data": {
      "text/plain": [
       "<AxesSubplot:xlabel='onebank'>"
      ]
     },
     "execution_count": 66,
     "metadata": {},
     "output_type": "execute_result"
    },
    {
     "data": {
      "image/png": "[encoded data removed]",
      "text/plain": [
       "<Figure size 1440x432 with 1 Axes>"
      ]
     },
     "metadata": {
      "needs_background": "light"
     },
     "output_type": "display_data"
    }
   ],
   "source": [
    "onebank = pd.crosstab(customers_data1['onebank'],customers_data1['account_status'])\n",
    "onebank.div(onebank.sum(1).astype(float),axis=0).plot(kind='bar',stacked=True,figsize=(20,6))"
   ]
  },
  {
   "cell_type": "code",
   "execution_count": 67,
   "id": "342a4fb9",
   "metadata": {},
   "outputs": [
    {
     "data": {
      "text/plain": [
       "<AxesSubplot:xlabel='onepay'>"
      ]
     },
     "execution_count": 67,
     "metadata": {},
     "output_type": "execute_result"
    },
    {
     "data": {
      "image/png": "[encoded data removed]",
      "text/plain": [
       "<Figure size 1440x432 with 1 Axes>"
      ]
     },
     "metadata": {
      "needs_background": "light"
     },
     "output_type": "display_data"
    }
   ],
   "source": [
    "onepay = pd.crosstab(customers_data1['onepay'],customers_data1['account_status'])\n",
    "onepay.div(onepay.sum(1).astype(float),axis=0).plot(kind='bar',stacked=True,figsize=(20,6)) ussd"
   ]
  },
  {
   "cell_type": "code",
   "execution_count": 68,
   "id": "7a0b21cf",
   "metadata": {},
   "outputs": [
    {
     "data": {
      "text/plain": [
       "<AxesSubplot:xlabel='ussd'>"
      ]
     },
     "execution_count": 68,
     "metadata": {},
     "output_type": "execute_result"
    },
    {
     "data": {
      "image/png": "[encoded data removed]",
      "text/plain": [
       "<Figure size 1440x432 with 1 Axes>"
      ]
     },
     "metadata": {
      "needs_background": "light"
     },
     "output_type": "display_data"
    }
   ],
   "source": [
    "ussd = pd.crosstab(customers_data1['ussd'],customers_data1['account_status'])\n",
    "ussd.div(ussd.sum(1).astype(float),axis=0).plot(kind='bar',stacked=True,figsize=(20,6))"
   ]
  },
  {
   "cell_type": "code",
   "execution_count": 69,
   "id": "6ff82cad",
   "metadata": {},
   "outputs": [
    {
     "data": {
      "text/plain": [
       "<AxesSubplot:xlabel='product_group_desc'>"
      ]
     },
     "execution_count": 69,
     "metadata": {},
     "output_type": "execute_result"
    },
    {
     "data": {
      "image/png": "[encoded data removed]",
      "text/plain": [
       "<Figure size 1440x432 with 1 Axes>"
      ]
     },
     "metadata": {
      "needs_background": "light"
     },
     "output_type": "display_data"
    }
   ],
   "source": [
    "product_group = pd.crosstab(customers_data1['product_group_desc'],customers_data1['account_status'])\n",
    "product_group.div(product_group.sum(1).astype(float),axis=0).plot(kind='bar',stacked=True,figsize=(20,6))"
   ]
  },
  {
   "cell_type": "code",
   "execution_count": 46,
   "id": "7dedc3a5",
   "metadata": {},
   "outputs": [
    {
     "data": {
      "text/plain": [
       "21379"
      ]
     },
     "execution_count": 46,
     "metadata": {},
     "output_type": "execute_result"
    }
   ],
   "source": [
    "transactions_data.accountid.isin(customers_data.accountid.tolist()).sum()"
   ]
  },
  {
   "cell_type": "code",
   "execution_count": 11,
   "id": "f0b51db0",
   "metadata": {},
   "outputs": [],
   "source": [
    "#merge data\n",
    "customers_transactions_data = pd.merge(transactions_data, customers_data, how=\"inner\", on=[\"customer\", \"accountid\"])"
   ]
  },
  {
   "cell_type": "markdown",
   "id": "1dbe222f",
   "metadata": {},
   "source": [
    "## Comments\n",
    "\n",
    "* This is a comment\n",
    "* This is another comment\n",
    "* *This is a third comment\n",
    "### Part 2 \n",
    "This is the second part\n",
    "\n"
   ]
  },
  {
   "cell_type": "code",
   "execution_count": 13,
   "id": "dd052434",
   "metadata": {},
   "outputs": [
    {
     "data": {
      "text/html": [
       "<div>\n",
       "<style scoped>\n",
       "    .dataframe tbody tr th:only-of-type {\n",
       "        vertical-align: middle;\n",
       "    }\n",
       "\n",
       "    .dataframe tbody tr th {\n",
       "        vertical-align: top;\n",
       "    }\n",
       "\n",
       "    .dataframe thead th {\n",
       "        text-align: right;\n",
       "    }\n",
       "</style>\n",
       "<table border=\"1\" class=\"dataframe\">\n",
       "  <thead>\n",
       "    <tr style=\"text-align: right;\">\n",
       "      <th></th>\n",
       "      <th>customer</th>\n",
       "      <th>accountid</th>\n",
       "      <th>AMOUNT_LCY</th>\n",
       "      <th>Trans_ID</th>\n",
       "      <th>Trans_timestamp</th>\n",
       "      <th>deb_cre_ind</th>\n",
       "      <th>narrative</th>\n",
       "      <th>transactiondescription</th>\n",
       "      <th>workingbalance</th>\n",
       "      <th>openingdate</th>\n",
       "      <th>...</th>\n",
       "      <th>account_status</th>\n",
       "      <th>Maxtransdate</th>\n",
       "      <th>product_group_desc</th>\n",
       "      <th>customer_type</th>\n",
       "      <th>region</th>\n",
       "      <th>sector</th>\n",
       "      <th>card_status</th>\n",
       "      <th>onebank</th>\n",
       "      <th>onepay</th>\n",
       "      <th>ussd</th>\n",
       "    </tr>\n",
       "  </thead>\n",
       "  <tbody>\n",
       "    <tr>\n",
       "      <th>0</th>\n",
       "      <td>14090403</td>\n",
       "      <td>11542643</td>\n",
       "      <td>56560.00</td>\n",
       "      <td>FT20266S4D4W</td>\n",
       "      <td>2020-09-22 18:07:10.000</td>\n",
       "      <td>C</td>\n",
       "      <td>BANK?NIP From 00001320092218530000017517?1020 ...</td>\n",
       "      <td>TRANSFER IN</td>\n",
       "      <td>496861.36</td>\n",
       "      <td>2016-11-08</td>\n",
       "      <td>...</td>\n",
       "      <td>Active</td>\n",
       "      <td>2022-03-23</td>\n",
       "      <td>Savings Accounts Group</td>\n",
       "      <td>Individual Customer</td>\n",
       "      <td>APAPA &amp; BEYOND</td>\n",
       "      <td>GENERAL</td>\n",
       "      <td>NaN</td>\n",
       "      <td>0</td>\n",
       "      <td>1</td>\n",
       "      <td>0</td>\n",
       "    </tr>\n",
       "    <tr>\n",
       "      <th>1</th>\n",
       "      <td>14090403</td>\n",
       "      <td>11542643</td>\n",
       "      <td>1414000.00</td>\n",
       "      <td>FT20267ZP1P9</td>\n",
       "      <td>2020-09-23 10:25:15.000</td>\n",
       "      <td>C</td>\n",
       "      <td>BANK?NIP From 00000820092311052357308071?0001 ...</td>\n",
       "      <td>TRANSFER IN</td>\n",
       "      <td>496861.36</td>\n",
       "      <td>2016-11-08</td>\n",
       "      <td>...</td>\n",
       "      <td>Active</td>\n",
       "      <td>2022-03-23</td>\n",
       "      <td>Savings Accounts Group</td>\n",
       "      <td>Individual Customer</td>\n",
       "      <td>APAPA &amp; BEYOND</td>\n",
       "      <td>GENERAL</td>\n",
       "      <td>NaN</td>\n",
       "      <td>0</td>\n",
       "      <td>1</td>\n",
       "      <td>0</td>\n",
       "    </tr>\n",
       "    <tr>\n",
       "      <th>2</th>\n",
       "      <td>14090403</td>\n",
       "      <td>11542643</td>\n",
       "      <td>1414000.00</td>\n",
       "      <td>FT20272GD8NG</td>\n",
       "      <td>2020-09-27 19:04:04.000</td>\n",
       "      <td>C</td>\n",
       "      <td>BANK?NIP From 00000820092719594915312839?0001 ...</td>\n",
       "      <td>TRANSFER IN</td>\n",
       "      <td>496861.36</td>\n",
       "      <td>2016-11-08</td>\n",
       "      <td>...</td>\n",
       "      <td>Active</td>\n",
       "      <td>2022-03-23</td>\n",
       "      <td>Savings Accounts Group</td>\n",
       "      <td>Individual Customer</td>\n",
       "      <td>APAPA &amp; BEYOND</td>\n",
       "      <td>GENERAL</td>\n",
       "      <td>NaN</td>\n",
       "      <td>0</td>\n",
       "      <td>1</td>\n",
       "      <td>0</td>\n",
       "    </tr>\n",
       "    <tr>\n",
       "      <th>3</th>\n",
       "      <td>14090403</td>\n",
       "      <td>11542643</td>\n",
       "      <td>1414000.00</td>\n",
       "      <td>FT20267SBKG9</td>\n",
       "      <td>2020-09-23 15:42:29.000</td>\n",
       "      <td>D</td>\n",
       "      <td>NIBSS INSTANT PAYMENT TSS?Online to GTBank Plc...</td>\n",
       "      <td>TRF :</td>\n",
       "      <td>496861.36</td>\n",
       "      <td>2016-11-08</td>\n",
       "      <td>...</td>\n",
       "      <td>Active</td>\n",
       "      <td>2022-03-23</td>\n",
       "      <td>Savings Accounts Group</td>\n",
       "      <td>Individual Customer</td>\n",
       "      <td>APAPA &amp; BEYOND</td>\n",
       "      <td>GENERAL</td>\n",
       "      <td>NaN</td>\n",
       "      <td>0</td>\n",
       "      <td>1</td>\n",
       "      <td>0</td>\n",
       "    </tr>\n",
       "    <tr>\n",
       "      <th>4</th>\n",
       "      <td>14090403</td>\n",
       "      <td>11542643</td>\n",
       "      <td>70700.00</td>\n",
       "      <td>FT20268JMF32</td>\n",
       "      <td>2020-09-24 16:44:11.000</td>\n",
       "      <td>D</td>\n",
       "      <td>NIBSS INSTANT PAYMENT TSS?Online to First Bank...</td>\n",
       "      <td>TRF :</td>\n",
       "      <td>496861.36</td>\n",
       "      <td>2016-11-08</td>\n",
       "      <td>...</td>\n",
       "      <td>Active</td>\n",
       "      <td>2022-03-23</td>\n",
       "      <td>Savings Accounts Group</td>\n",
       "      <td>Individual Customer</td>\n",
       "      <td>APAPA &amp; BEYOND</td>\n",
       "      <td>GENERAL</td>\n",
       "      <td>NaN</td>\n",
       "      <td>0</td>\n",
       "      <td>1</td>\n",
       "      <td>0</td>\n",
       "    </tr>\n",
       "    <tr>\n",
       "      <th>...</th>\n",
       "      <td>...</td>\n",
       "      <td>...</td>\n",
       "      <td>...</td>\n",
       "      <td>...</td>\n",
       "      <td>...</td>\n",
       "      <td>...</td>\n",
       "      <td>...</td>\n",
       "      <td>...</td>\n",
       "      <td>...</td>\n",
       "      <td>...</td>\n",
       "      <td>...</td>\n",
       "      <td>...</td>\n",
       "      <td>...</td>\n",
       "      <td>...</td>\n",
       "      <td>...</td>\n",
       "      <td>...</td>\n",
       "      <td>...</td>\n",
       "      <td>...</td>\n",
       "      <td>...</td>\n",
       "      <td>...</td>\n",
       "      <td>...</td>\n",
       "    </tr>\n",
       "    <tr>\n",
       "      <th>21382</th>\n",
       "      <td>12595394</td>\n",
       "      <td>17334726</td>\n",
       "      <td>8484.00</td>\n",
       "      <td>FT20246GJPR3</td>\n",
       "      <td>2020-09-02 09:12:08.000</td>\n",
       "      <td>C</td>\n",
       "      <td>BANK?NIP From 00001520090209564200112557?1388 ...</td>\n",
       "      <td>TRANSFER IN</td>\n",
       "      <td>1515.24</td>\n",
       "      <td>2012-12-05</td>\n",
       "      <td>...</td>\n",
       "      <td>Dormant</td>\n",
       "      <td>2021-03-02</td>\n",
       "      <td>Savings Accounts Group</td>\n",
       "      <td>Individual Customer</td>\n",
       "      <td>APAPA &amp; BEYOND</td>\n",
       "      <td>EDUCATION</td>\n",
       "      <td>Active</td>\n",
       "      <td>0</td>\n",
       "      <td>0</td>\n",
       "      <td>1</td>\n",
       "    </tr>\n",
       "    <tr>\n",
       "      <th>21383</th>\n",
       "      <td>19975010</td>\n",
       "      <td>15969800</td>\n",
       "      <td>14140.00</td>\n",
       "      <td>FT20246QTDW7</td>\n",
       "      <td>2020-09-02 08:43:42.000</td>\n",
       "      <td>C</td>\n",
       "      <td>BANK?NIP From 00001320090209292500014969?5165 ...</td>\n",
       "      <td>TRANSFER IN</td>\n",
       "      <td>867519.37</td>\n",
       "      <td>2014-12-17</td>\n",
       "      <td>...</td>\n",
       "      <td>Active</td>\n",
       "      <td>2021-12-31</td>\n",
       "      <td>Savings Accounts Group</td>\n",
       "      <td>Individual Customer</td>\n",
       "      <td>APAPA &amp; BEYOND</td>\n",
       "      <td>GENERAL</td>\n",
       "      <td>NaN</td>\n",
       "      <td>0</td>\n",
       "      <td>0</td>\n",
       "      <td>0</td>\n",
       "    </tr>\n",
       "    <tr>\n",
       "      <th>21384</th>\n",
       "      <td>16624448</td>\n",
       "      <td>15035381</td>\n",
       "      <td>28280.00</td>\n",
       "      <td>FT20245J4NM8</td>\n",
       "      <td>2020-08-31 17:26:48.000</td>\n",
       "      <td>D</td>\n",
       "      <td>RICHBAMATM2?STERLING BANK TERMINAL - ?RICHBAM ...</td>\n",
       "      <td>CASH WITHDRAWAL</td>\n",
       "      <td>134385.29</td>\n",
       "      <td>2007-10-18</td>\n",
       "      <td>...</td>\n",
       "      <td>Active</td>\n",
       "      <td>2022-03-21</td>\n",
       "      <td>Savings Accounts Group</td>\n",
       "      <td>Individual Customer</td>\n",
       "      <td>APAPA &amp; BEYOND</td>\n",
       "      <td>GENERAL</td>\n",
       "      <td>Active</td>\n",
       "      <td>0</td>\n",
       "      <td>0</td>\n",
       "      <td>0</td>\n",
       "    </tr>\n",
       "    <tr>\n",
       "      <th>21385</th>\n",
       "      <td>13428739</td>\n",
       "      <td>13813582</td>\n",
       "      <td>272817.16</td>\n",
       "      <td>FT202557LTD6</td>\n",
       "      <td>2020-09-11 10:31:41.000</td>\n",
       "      <td>C</td>\n",
       "      <td>BANK?CorporateIBS/200911113114635589/TRF?IFO M...</td>\n",
       "      <td>TRANSFER IN</td>\n",
       "      <td>9.71</td>\n",
       "      <td>2018-05-18</td>\n",
       "      <td>...</td>\n",
       "      <td>Dormant</td>\n",
       "      <td>2020-11-11</td>\n",
       "      <td>Domiciliary Current Account Group</td>\n",
       "      <td>Corporate Customer</td>\n",
       "      <td>APAPA &amp; BEYOND</td>\n",
       "      <td>PROF SCIENTIFIC AND TECH ACT.</td>\n",
       "      <td>NaN</td>\n",
       "      <td>0</td>\n",
       "      <td>0</td>\n",
       "      <td>0</td>\n",
       "    </tr>\n",
       "    <tr>\n",
       "      <th>21386</th>\n",
       "      <td>16453623</td>\n",
       "      <td>12358240</td>\n",
       "      <td>16968.00</td>\n",
       "      <td>FT20248784DG</td>\n",
       "      <td>2020-09-04 07:13:45.000</td>\n",
       "      <td>C</td>\n",
       "      <td>BANK?NIP From 00001320090408102400015251?9023 ...</td>\n",
       "      <td>TRANSFER IN</td>\n",
       "      <td>278.05</td>\n",
       "      <td>2016-12-20</td>\n",
       "      <td>...</td>\n",
       "      <td>Dormant</td>\n",
       "      <td>2020-11-16</td>\n",
       "      <td>Savings Accounts Group</td>\n",
       "      <td>Individual Customer</td>\n",
       "      <td>APAPA &amp; BEYOND</td>\n",
       "      <td>GENERAL</td>\n",
       "      <td>NaN</td>\n",
       "      <td>0</td>\n",
       "      <td>1</td>\n",
       "      <td>1</td>\n",
       "    </tr>\n",
       "  </tbody>\n",
       "</table>\n",
       "<p>21387 rows × 23 columns</p>\n",
       "</div>"
      ],
      "text/plain": [
       "       customer  accountid  AMOUNT_LCY      Trans_ID          Trans_timestamp  \\\n",
       "0      14090403   11542643    56560.00  FT20266S4D4W  2020-09-22 18:07:10.000   \n",
       "1      14090403   11542643  1414000.00  FT20267ZP1P9  2020-09-23 10:25:15.000   \n",
       "2      14090403   11542643  1414000.00  FT20272GD8NG  2020-09-27 19:04:04.000   \n",
       "3      14090403   11542643  1414000.00  FT20267SBKG9  2020-09-23 15:42:29.000   \n",
       "4      14090403   11542643    70700.00  FT20268JMF32  2020-09-24 16:44:11.000   \n",
       "...         ...        ...         ...           ...                      ...   \n",
       "21382  12595394   17334726     8484.00  FT20246GJPR3  2020-09-02 09:12:08.000   \n",
       "21383  19975010   15969800    14140.00  FT20246QTDW7  2020-09-02 08:43:42.000   \n",
       "21384  16624448   15035381    28280.00  FT20245J4NM8  2020-08-31 17:26:48.000   \n",
       "21385  13428739   13813582   272817.16  FT202557LTD6  2020-09-11 10:31:41.000   \n",
       "21386  16453623   12358240    16968.00  FT20248784DG  2020-09-04 07:13:45.000   \n",
       "\n",
       "      deb_cre_ind                                          narrative  \\\n",
       "0               C  BANK?NIP From 00001320092218530000017517?1020 ...   \n",
       "1               C  BANK?NIP From 00000820092311052357308071?0001 ...   \n",
       "2               C  BANK?NIP From 00000820092719594915312839?0001 ...   \n",
       "3               D  NIBSS INSTANT PAYMENT TSS?Online to GTBank Plc...   \n",
       "4               D  NIBSS INSTANT PAYMENT TSS?Online to First Bank...   \n",
       "...           ...                                                ...   \n",
       "21382           C  BANK?NIP From 00001520090209564200112557?1388 ...   \n",
       "21383           C  BANK?NIP From 00001320090209292500014969?5165 ...   \n",
       "21384           D  RICHBAMATM2?STERLING BANK TERMINAL - ?RICHBAM ...   \n",
       "21385           C  BANK?CorporateIBS/200911113114635589/TRF?IFO M...   \n",
       "21386           C  BANK?NIP From 00001320090408102400015251?9023 ...   \n",
       "\n",
       "      transactiondescription  workingbalance openingdate  ... account_status  \\\n",
       "0                TRANSFER IN       496861.36  2016-11-08  ...         Active   \n",
       "1                TRANSFER IN       496861.36  2016-11-08  ...         Active   \n",
       "2                TRANSFER IN       496861.36  2016-11-08  ...         Active   \n",
       "3                      TRF :       496861.36  2016-11-08  ...         Active   \n",
       "4                      TRF :       496861.36  2016-11-08  ...         Active   \n",
       "...                      ...             ...         ...  ...            ...   \n",
       "21382            TRANSFER IN         1515.24  2012-12-05  ...        Dormant   \n",
       "21383            TRANSFER IN       867519.37  2014-12-17  ...         Active   \n",
       "21384        CASH WITHDRAWAL       134385.29  2007-10-18  ...         Active   \n",
       "21385            TRANSFER IN            9.71  2018-05-18  ...        Dormant   \n",
       "21386            TRANSFER IN          278.05  2016-12-20  ...        Dormant   \n",
       "\n",
       "      Maxtransdate                 product_group_desc        customer_type  \\\n",
       "0       2022-03-23             Savings Accounts Group  Individual Customer   \n",
       "1       2022-03-23             Savings Accounts Group  Individual Customer   \n",
       "2       2022-03-23             Savings Accounts Group  Individual Customer   \n",
       "3       2022-03-23             Savings Accounts Group  Individual Customer   \n",
       "4       2022-03-23             Savings Accounts Group  Individual Customer   \n",
       "...            ...                                ...                  ...   \n",
       "21382   2021-03-02             Savings Accounts Group  Individual Customer   \n",
       "21383   2021-12-31             Savings Accounts Group  Individual Customer   \n",
       "21384   2022-03-21             Savings Accounts Group  Individual Customer   \n",
       "21385   2020-11-11  Domiciliary Current Account Group   Corporate Customer   \n",
       "21386   2020-11-16             Savings Accounts Group  Individual Customer   \n",
       "\n",
       "               region                         sector card_status onebank  \\\n",
       "0      APAPA & BEYOND                        GENERAL         NaN       0   \n",
       "1      APAPA & BEYOND                        GENERAL         NaN       0   \n",
       "2      APAPA & BEYOND                        GENERAL         NaN       0   \n",
       "3      APAPA & BEYOND                        GENERAL         NaN       0   \n",
       "4      APAPA & BEYOND                        GENERAL         NaN       0   \n",
       "...               ...                            ...         ...     ...   \n",
       "21382  APAPA & BEYOND                      EDUCATION      Active       0   \n",
       "21383  APAPA & BEYOND                        GENERAL         NaN       0   \n",
       "21384  APAPA & BEYOND                        GENERAL      Active       0   \n",
       "21385  APAPA & BEYOND  PROF SCIENTIFIC AND TECH ACT.         NaN       0   \n",
       "21386  APAPA & BEYOND                        GENERAL         NaN       0   \n",
       "\n",
       "      onepay ussd  \n",
       "0          1    0  \n",
       "1          1    0  \n",
       "2          1    0  \n",
       "3          1    0  \n",
       "4          1    0  \n",
       "...      ...  ...  \n",
       "21382      0    1  \n",
       "21383      0    0  \n",
       "21384      0    0  \n",
       "21385      0    0  \n",
       "21386      1    1  \n",
       "\n",
       "[21387 rows x 23 columns]"
      ]
     },
     "execution_count": 13,
     "metadata": {},
     "output_type": "execute_result"
    }
   ],
   "source": [
    "customers_transactions_data"
   ]
  },
  {
   "cell_type": "code",
   "execution_count": 45,
   "id": "f3f45470",
   "metadata": {},
   "outputs": [
    {
     "data": {
      "text/plain": [
       "4467"
      ]
     },
     "execution_count": 45,
     "metadata": {},
     "output_type": "execute_result"
    }
   ],
   "source": [
    "customers_data.customer.nunique()"
   ]
  },
  {
   "cell_type": "code",
   "execution_count": 36,
   "id": "670ac8ca",
   "metadata": {},
   "outputs": [
    {
     "data": {
      "text/plain": [
       "12912899    524\n",
       "17372153    305\n",
       "19146277    222\n",
       "12158807    198\n",
       "16713484    193\n",
       "           ... \n",
       "12595394      1\n",
       "14797453      1\n",
       "13807516      1\n",
       "13428739      1\n",
       "19262142      1\n",
       "Name: customer, Length: 838, dtype: int64"
      ]
     },
     "execution_count": 36,
     "metadata": {},
     "output_type": "execute_result"
    }
   ],
   "source": [
    "customers_transactions_data[\"customer\"].value_counts()"
   ]
  },
  {
   "cell_type": "code",
   "execution_count": 18,
   "id": "f09c2437",
   "metadata": {},
   "outputs": [
    {
     "data": {
      "text/plain": [
       "(21387, 23)"
      ]
     },
     "execution_count": 18,
     "metadata": {},
     "output_type": "execute_result"
    }
   ],
   "source": [
    "customers_transactions_data.shape"
   ]
  },
  {
   "cell_type": "code",
   "execution_count": 20,
   "id": "c9e86a70",
   "metadata": {},
   "outputs": [
    {
     "name": "stdout",
     "output_type": "stream",
     "text": [
      "<class 'pandas.core.frame.DataFrame'>\n",
      "Int64Index: 21387 entries, 0 to 21386\n",
      "Data columns (total 23 columns):\n",
      " #   Column                  Non-Null Count  Dtype  \n",
      "---  ------                  --------------  -----  \n",
      " 0   customer                21387 non-null  int64  \n",
      " 1   accountid               21387 non-null  int64  \n",
      " 2   AMOUNT_LCY              21387 non-null  float64\n",
      " 3   Trans_ID                20998 non-null  object \n",
      " 4   Trans_timestamp         21387 non-null  object \n",
      " 5   deb_cre_ind             21387 non-null  object \n",
      " 6   narrative               21387 non-null  object \n",
      " 7   transactiondescription  21387 non-null  object \n",
      " 8   workingbalance          21387 non-null  float64\n",
      " 9   openingdate             21387 non-null  object \n",
      " 10  Restriciton Code        1131 non-null   object \n",
      " 11  address                 20120 non-null  object \n",
      " 12  email_1                 9973 non-null   object \n",
      " 13  account_status          21387 non-null  object \n",
      " 14  Maxtransdate            21387 non-null  object \n",
      " 15  product_group_desc      21335 non-null  object \n",
      " 16  customer_type           21387 non-null  object \n",
      " 17  region                  21387 non-null  object \n",
      " 18  sector                  21387 non-null  object \n",
      " 19  card_status             20295 non-null  object \n",
      " 20  onebank                 21387 non-null  int64  \n",
      " 21  onepay                  21387 non-null  int64  \n",
      " 22  ussd                    21387 non-null  int64  \n",
      "dtypes: float64(2), int64(5), object(16)\n",
      "memory usage: 3.9+ MB\n"
     ]
    }
   ],
   "source": [
    "customers_transactions_data.info()"
   ]
  },
  {
   "cell_type": "code",
   "execution_count": 22,
   "id": "df0b66e6",
   "metadata": {},
   "outputs": [
    {
     "data": {
      "text/plain": [
       "0"
      ]
     },
     "execution_count": 22,
     "metadata": {},
     "output_type": "execute_result"
    }
   ],
   "source": [
    "customers_transactions_data.duplicated().sum()"
   ]
  },
  {
   "cell_type": "code",
   "execution_count": 23,
   "id": "40f98420",
   "metadata": {},
   "outputs": [
    {
     "data": {
      "text/plain": [
       "21387"
      ]
     },
     "execution_count": 23,
     "metadata": {},
     "output_type": "execute_result"
    }
   ],
   "source": [
    "customers_transactions_data[\"accountid\"].value_counts().sum()"
   ]
  },
  {
   "cell_type": "code",
   "execution_count": 25,
   "id": "a4f4f983",
   "metadata": {},
   "outputs": [
    {
     "data": {
      "text/plain": [
       "21387"
      ]
     },
     "execution_count": 25,
     "metadata": {},
     "output_type": "execute_result"
    }
   ],
   "source": [
    "customers_transactions_data[\"customer\"].value_counts().sum()"
   ]
  },
  {
   "cell_type": "code",
   "execution_count": 26,
   "id": "1ade7739",
   "metadata": {},
   "outputs": [
    {
     "data": {
      "text/plain": [
       "12912899    524\n",
       "17372153    305\n",
       "19146277    222\n",
       "12158807    198\n",
       "16713484    193\n",
       "           ... \n",
       "12595394      1\n",
       "14797453      1\n",
       "13807516      1\n",
       "13428739      1\n",
       "19262142      1\n",
       "Name: customer, Length: 838, dtype: int64"
      ]
     },
     "execution_count": 26,
     "metadata": {},
     "output_type": "execute_result"
    }
   ],
   "source": [
    "customers_transactions_data[\"customer\"].value_counts()"
   ]
  },
  {
   "cell_type": "code",
   "execution_count": 29,
   "id": "bbd3ba85",
   "metadata": {},
   "outputs": [
    {
     "data": {
      "text/plain": [
       "<AxesSubplot:xlabel='region'>"
      ]
     },
     "execution_count": 29,
     "metadata": {},
     "output_type": "execute_result"
    },
    {
     "data": {
      "image/png": "[encoded data removed]",
      "text/plain": [
       "<Figure size 1440x432 with 1 Axes>"
      ]
     },
     "metadata": {
      "needs_background": "light"
     },
     "output_type": "display_data"
    }
   ],
   "source": [
    "region = pd.crosstab(customers_transactions_data['region'],customers_transactions_data['account_status'])\n",
    "region.div(region.sum(1).astype(float),axis=0).plot(kind='bar',stacked=True,figsize=(20,6))"
   ]
  },
  {
   "cell_type": "code",
   "execution_count": 30,
   "id": "85d9ed85",
   "metadata": {},
   "outputs": [
    {
     "data": {
      "text/plain": [
       "<AxesSubplot:xlabel='customer_type'>"
      ]
     },
     "execution_count": 30,
     "metadata": {},
     "output_type": "execute_result"
    },
    {
     "data": {
      "image/png": "[encoded data removed]",
      "text/plain": [
       "<Figure size 1440x432 with 1 Axes>"
      ]
     },
     "metadata": {
      "needs_background": "light"
     },
     "output_type": "display_data"
    }
   ],
   "source": [
    "customer_type = pd.crosstab(customers_transactions_data['customer_type'],customers_transactions_data['account_status'])\n",
    "customer_type.div(customer_type.sum(1).astype(float),axis=0).plot(kind='bar',stacked=True,figsize=(20,6))"
   ]
  },
  {
   "cell_type": "code",
   "execution_count": 52,
   "id": "6e80ca85",
   "metadata": {},
   "outputs": [
    {
     "data": {
      "text/html": [
       "<div>\n",
       "<style scoped>\n",
       "    .dataframe tbody tr th:only-of-type {\n",
       "        vertical-align: middle;\n",
       "    }\n",
       "\n",
       "    .dataframe tbody tr th {\n",
       "        vertical-align: top;\n",
       "    }\n",
       "\n",
       "    .dataframe thead th {\n",
       "        text-align: right;\n",
       "    }\n",
       "</style>\n",
       "<table border=\"1\" class=\"dataframe\">\n",
       "  <thead>\n",
       "    <tr style=\"text-align: right;\">\n",
       "      <th>account_status</th>\n",
       "      <th>Active</th>\n",
       "      <th>Dormant</th>\n",
       "      <th>Inactive</th>\n",
       "    </tr>\n",
       "    <tr>\n",
       "      <th>customer_type</th>\n",
       "      <th></th>\n",
       "      <th></th>\n",
       "      <th></th>\n",
       "    </tr>\n",
       "  </thead>\n",
       "  <tbody>\n",
       "    <tr>\n",
       "      <th>Corporate Customer</th>\n",
       "      <td>775</td>\n",
       "      <td>55</td>\n",
       "      <td>87</td>\n",
       "    </tr>\n",
       "    <tr>\n",
       "      <th>DSE</th>\n",
       "      <td>8</td>\n",
       "      <td>0</td>\n",
       "      <td>0</td>\n",
       "    </tr>\n",
       "    <tr>\n",
       "      <th>EMBASSY/HIGH COMMISSION</th>\n",
       "      <td>1</td>\n",
       "      <td>0</td>\n",
       "      <td>4</td>\n",
       "    </tr>\n",
       "    <tr>\n",
       "      <th>Enterprise Customer</th>\n",
       "      <td>342</td>\n",
       "      <td>3</td>\n",
       "      <td>0</td>\n",
       "    </tr>\n",
       "    <tr>\n",
       "      <th>Individual Customer</th>\n",
       "      <td>16741</td>\n",
       "      <td>448</td>\n",
       "      <td>425</td>\n",
       "    </tr>\n",
       "    <tr>\n",
       "      <th>Individual Staff</th>\n",
       "      <td>352</td>\n",
       "      <td>0</td>\n",
       "      <td>0</td>\n",
       "    </tr>\n",
       "    <tr>\n",
       "      <th>Internal Customer</th>\n",
       "      <td>86</td>\n",
       "      <td>0</td>\n",
       "      <td>0</td>\n",
       "    </tr>\n",
       "    <tr>\n",
       "      <th>Joint Customers</th>\n",
       "      <td>0</td>\n",
       "      <td>0</td>\n",
       "      <td>4</td>\n",
       "    </tr>\n",
       "    <tr>\n",
       "      <th>MSME</th>\n",
       "      <td>221</td>\n",
       "      <td>7</td>\n",
       "      <td>0</td>\n",
       "    </tr>\n",
       "    <tr>\n",
       "      <th>Minor</th>\n",
       "      <td>168</td>\n",
       "      <td>12</td>\n",
       "      <td>10</td>\n",
       "    </tr>\n",
       "    <tr>\n",
       "      <th>Not for Profit</th>\n",
       "      <td>17</td>\n",
       "      <td>0</td>\n",
       "      <td>0</td>\n",
       "    </tr>\n",
       "    <tr>\n",
       "      <th>Salary Customer</th>\n",
       "      <td>1392</td>\n",
       "      <td>22</td>\n",
       "      <td>109</td>\n",
       "    </tr>\n",
       "    <tr>\n",
       "      <th>Student</th>\n",
       "      <td>61</td>\n",
       "      <td>0</td>\n",
       "      <td>0</td>\n",
       "    </tr>\n",
       "    <tr>\n",
       "      <th>Trainee</th>\n",
       "      <td>27</td>\n",
       "      <td>0</td>\n",
       "      <td>0</td>\n",
       "    </tr>\n",
       "    <tr>\n",
       "      <th>Youth Corper</th>\n",
       "      <td>0</td>\n",
       "      <td>10</td>\n",
       "      <td>0</td>\n",
       "    </tr>\n",
       "  </tbody>\n",
       "</table>\n",
       "</div>"
      ],
      "text/plain": [
       "account_status           Active  Dormant  Inactive\n",
       "customer_type                                     \n",
       "Corporate Customer          775       55        87\n",
       "DSE                           8        0         0\n",
       "EMBASSY/HIGH COMMISSION       1        0         4\n",
       "Enterprise Customer         342        3         0\n",
       "Individual Customer       16741      448       425\n",
       "Individual Staff            352        0         0\n",
       "Internal Customer            86        0         0\n",
       "Joint Customers               0        0         4\n",
       "MSME                        221        7         0\n",
       "Minor                       168       12        10\n",
       "Not for Profit               17        0         0\n",
       "Salary Customer            1392       22       109\n",
       "Student                      61        0         0\n",
       "Trainee                      27        0         0\n",
       "Youth Corper                  0       10         0"
      ]
     },
     "execution_count": 52,
     "metadata": {},
     "output_type": "execute_result"
    }
   ],
   "source": [
    "customer_type1 = pd.crosstab(customers_transactions_data['customer_type'],customers_transactions_data['account_status'])\n",
    "customer_type1"
   ]
  },
  {
   "cell_type": "markdown",
   "id": "a49b8329",
   "metadata": {},
   "source": [
    "## Comments\n",
    "\n",
    "* After merging the customers and transactions data set, the rate of dormancy reduced drastically, only the youth corper accounts shows a high rate of dormant accounts. \n",
    "* After checking the value count of youth corper account, we have 10 dormant youth corper account, although this number is relatively small compared to the total numbers of customers we have in the dataset, but it should not be ignored, measures should be put in place to reactivate those accounts and those measures can invariably help us acquire new youth corper account. These measures includes:\n",
    "* Zero account and a free naira card.\n",
    "* Since we have 448 dormant accountss and 425 inactive accounts for individual accounts, the above measure canalso be applied to reactivate the dormant accounts and also to get the inactive accounts up and running again.\n",
    "* For corporate customers, we can sell collection solutions to get their dormant accounts reactivated and their inactive accounts active by providing AI solutions that will detect and notify fraudulent or suspicious activities in their account, that could turn things around for them."
   ]
  },
  {
   "cell_type": "code",
   "execution_count": 37,
   "id": "1c6939d1",
   "metadata": {},
   "outputs": [
    {
     "data": {
      "text/plain": [
       "Individual Customer        17614\n",
       "Salary Customer             1523\n",
       "Corporate Customer           917\n",
       "Individual Staff             352\n",
       "Enterprise Customer          345\n",
       "MSME                         228\n",
       "Minor                        190\n",
       "Internal Customer             86\n",
       "Student                       61\n",
       "Trainee                       27\n",
       "Not for Profit                17\n",
       "Youth Corper                  10\n",
       "DSE                            8\n",
       "EMBASSY/HIGH COMMISSION        5\n",
       "Joint Customers                4\n",
       "Name: customer_type, dtype: int64"
      ]
     },
     "execution_count": 37,
     "metadata": {},
     "output_type": "execute_result"
    }
   ],
   "source": [
    "customers_transactions_data[\"customer_type\"].value_counts()"
   ]
  },
  {
   "cell_type": "code",
   "execution_count": 39,
   "id": "e9d99ce8",
   "metadata": {},
   "outputs": [
    {
     "data": {
      "text/plain": [
       "<pandas.core.groupby.generic.DataFrameGroupBy object at 0x0000023BE7C3A820>"
      ]
     },
     "execution_count": 39,
     "metadata": {},
     "output_type": "execute_result"
    }
   ],
   "source": [
    "grouped = customers_transactions_data.groupby('workingbalance')\n",
    "grouped"
   ]
  },
  {
   "cell_type": "code",
   "execution_count": 40,
   "id": "19e77b42",
   "metadata": {
    "scrolled": true
   },
   "outputs": [
    {
     "data": {
      "text/plain": [
       "workingbalance\n",
       "-2.392834e+06   -2.392834e+06\n",
       "-1.177633e+06   -1.177633e+06\n",
       "-8.606199e+05   -8.606199e+05\n",
       "-3.593752e+05   -3.593752e+05\n",
       "-2.487570e+05   -2.487570e+05\n",
       "                     ...     \n",
       " 1.355857e+07    1.355857e+07\n",
       " 1.619366e+07    1.619366e+07\n",
       " 1.847000e+07    1.847000e+07\n",
       " 4.355323e+07    4.355323e+07\n",
       " 1.020330e+08    1.020330e+08\n",
       "Name: workingbalance, Length: 864, dtype: float64"
      ]
     },
     "execution_count": 40,
     "metadata": {},
     "output_type": "execute_result"
    }
   ],
   "source": [
    "grouped['workingbalance'].agg(np.mean)"
   ]
  },
  {
   "cell_type": "code",
   "execution_count": 48,
   "id": "48174c02",
   "metadata": {},
   "outputs": [
    {
     "data": {
      "text/plain": [
       "(array([2.1142e+04, 2.2100e+02, 0.0000e+00, 0.0000e+00, 7.0000e+00,\n",
       "        0.0000e+00, 0.0000e+00, 0.0000e+00, 0.0000e+00, 1.7000e+01]),\n",
       " array([-2.39283378e+06,  8.04975152e+06,  1.84923368e+07,  2.89349221e+07,\n",
       "         3.93775074e+07,  4.98200927e+07,  6.02626780e+07,  7.07052633e+07,\n",
       "         8.11478486e+07,  9.15904339e+07,  1.02033019e+08]),\n",
       " <BarContainer object of 10 artists>)"
      ]
     },
     "execution_count": 48,
     "metadata": {},
     "output_type": "execute_result"
    },
    {
     "data": {
      "image/png": "[encoded data removed]",
      "text/plain": [
       "<Figure size 432x288 with 1 Axes>"
      ]
     },
     "metadata": {
      "needs_background": "light"
     },
     "output_type": "display_data"
    }
   ],
   "source": [
    "plt.hist(customers_transactions_data.workingbalance.values)"
   ]
  },
  {
   "cell_type": "code",
   "execution_count": 49,
   "id": "a72a0ee0",
   "metadata": {},
   "outputs": [
    {
     "name": "stdout",
     "output_type": "stream",
     "text": [
      "C:\\Users\\ADMIN\\anaconda3\\python.exe\n",
      "C:\\Users\\ADMIN\\AppData\\Local\\Programs\\Python\\Python39\\python.exe\n",
      "C:\\Users\\ADMIN\\AppData\\Local\\Microsoft\\WindowsApps\\python.exe\n"
     ]
    }
   ],
   "source": [
    "!where python"
   ]
  },
  {
   "cell_type": "code",
   "execution_count": 54,
   "id": "fc76f0c1",
   "metadata": {},
   "outputs": [
    {
     "data": {
      "text/plain": [
       "<AxesSubplot:xlabel='customer_type'>"
      ]
     },
     "execution_count": 54,
     "metadata": {},
     "output_type": "execute_result"
    },
    {
     "data": {
      "image/png": "[encoded data removed]",
      "text/plain": [
       "<Figure size 1440x432 with 1 Axes>"
      ]
     },
     "metadata": {
      "needs_background": "light"
     },
     "output_type": "display_data"
    }
   ],
   "source": [
    "customer_type_cardstatus = pd.crosstab(customers_transactions_data['customer_type'],customers_transactions_data['card_status'])\n",
    "customer_type_cardstatus.div(customer_type.sum(1).astype(float),axis=0).plot(kind='bar',stacked=True,figsize=(20,6))"
   ]
  },
  {
   "cell_type": "code",
   "execution_count": 55,
   "id": "7cf859a9",
   "metadata": {},
   "outputs": [
    {
     "data": {
      "text/html": [
       "<div>\n",
       "<style scoped>\n",
       "    .dataframe tbody tr th:only-of-type {\n",
       "        vertical-align: middle;\n",
       "    }\n",
       "\n",
       "    .dataframe tbody tr th {\n",
       "        vertical-align: top;\n",
       "    }\n",
       "\n",
       "    .dataframe thead th {\n",
       "        text-align: right;\n",
       "    }\n",
       "</style>\n",
       "<table border=\"1\" class=\"dataframe\">\n",
       "  <thead>\n",
       "    <tr style=\"text-align: right;\">\n",
       "      <th>card_status</th>\n",
       "      <th>Active</th>\n",
       "      <th>Expired</th>\n",
       "      <th>Restricted</th>\n",
       "    </tr>\n",
       "    <tr>\n",
       "      <th>customer_type</th>\n",
       "      <th></th>\n",
       "      <th></th>\n",
       "      <th></th>\n",
       "    </tr>\n",
       "  </thead>\n",
       "  <tbody>\n",
       "    <tr>\n",
       "      <th>Corporate Customer</th>\n",
       "      <td>264</td>\n",
       "      <td>183</td>\n",
       "      <td>9</td>\n",
       "    </tr>\n",
       "    <tr>\n",
       "      <th>DSE</th>\n",
       "      <td>8</td>\n",
       "      <td>0</td>\n",
       "      <td>0</td>\n",
       "    </tr>\n",
       "    <tr>\n",
       "      <th>EMBASSY/HIGH COMMISSION</th>\n",
       "      <td>1</td>\n",
       "      <td>0</td>\n",
       "      <td>0</td>\n",
       "    </tr>\n",
       "    <tr>\n",
       "      <th>Enterprise Customer</th>\n",
       "      <td>268</td>\n",
       "      <td>56</td>\n",
       "      <td>0</td>\n",
       "    </tr>\n",
       "    <tr>\n",
       "      <th>Individual Customer</th>\n",
       "      <td>15951</td>\n",
       "      <td>979</td>\n",
       "      <td>280</td>\n",
       "    </tr>\n",
       "    <tr>\n",
       "      <th>Individual Staff</th>\n",
       "      <td>283</td>\n",
       "      <td>0</td>\n",
       "      <td>69</td>\n",
       "    </tr>\n",
       "    <tr>\n",
       "      <th>Joint Customers</th>\n",
       "      <td>4</td>\n",
       "      <td>0</td>\n",
       "      <td>0</td>\n",
       "    </tr>\n",
       "    <tr>\n",
       "      <th>MSME</th>\n",
       "      <td>3</td>\n",
       "      <td>162</td>\n",
       "      <td>0</td>\n",
       "    </tr>\n",
       "    <tr>\n",
       "      <th>Minor</th>\n",
       "      <td>151</td>\n",
       "      <td>9</td>\n",
       "      <td>0</td>\n",
       "    </tr>\n",
       "    <tr>\n",
       "      <th>Salary Customer</th>\n",
       "      <td>1342</td>\n",
       "      <td>174</td>\n",
       "      <td>1</td>\n",
       "    </tr>\n",
       "    <tr>\n",
       "      <th>Student</th>\n",
       "      <td>0</td>\n",
       "      <td>0</td>\n",
       "      <td>61</td>\n",
       "    </tr>\n",
       "    <tr>\n",
       "      <th>Trainee</th>\n",
       "      <td>27</td>\n",
       "      <td>0</td>\n",
       "      <td>0</td>\n",
       "    </tr>\n",
       "    <tr>\n",
       "      <th>Youth Corper</th>\n",
       "      <td>10</td>\n",
       "      <td>0</td>\n",
       "      <td>0</td>\n",
       "    </tr>\n",
       "  </tbody>\n",
       "</table>\n",
       "</div>"
      ],
      "text/plain": [
       "card_status              Active  Expired  Restricted\n",
       "customer_type                                       \n",
       "Corporate Customer          264      183           9\n",
       "DSE                           8        0           0\n",
       "EMBASSY/HIGH COMMISSION       1        0           0\n",
       "Enterprise Customer         268       56           0\n",
       "Individual Customer       15951      979         280\n",
       "Individual Staff            283        0          69\n",
       "Joint Customers               4        0           0\n",
       "MSME                          3      162           0\n",
       "Minor                       151        9           0\n",
       "Salary Customer            1342      174           1\n",
       "Student                       0        0          61\n",
       "Trainee                      27        0           0\n",
       "Youth Corper                 10        0           0"
      ]
     },
     "execution_count": 55,
     "metadata": {},
     "output_type": "execute_result"
    }
   ],
   "source": [
    "customer_type_cardstatus1 = pd.crosstab(customers_transactions_data['customer_type'],customers_transactions_data['card_status'])\n",
    "customer_type_cardstatus1"
   ]
  },
  {
   "cell_type": "markdown",
   "id": "197d0844",
   "metadata": {},
   "source": [
    "## Comments\n",
    "\n",
    "* Corporate accounts has 183 accounts with expired card, Enterprise customers has 56, Individual customers has 979, MSME has 162 and Salary customers has 174. \n",
    "* The above customers can be notified by sending a mail to them to reactivate their expired cards, this can in turn generate funds for the bank and as well increase the amount of transactions carried in the account. \n",
    "* They can also be notified using atificial intelligence via their one bank app. "
   ]
  },
  {
   "cell_type": "code",
   "execution_count": 56,
   "id": "c029bea5",
   "metadata": {},
   "outputs": [
    {
     "data": {
      "text/plain": [
       "<AxesSubplot:xlabel='card_status'>"
      ]
     },
     "execution_count": 56,
     "metadata": {},
     "output_type": "execute_result"
    },
    {
     "data": {
      "image/png": "[encoded data removed]",
      "text/plain": [
       "<Figure size 1440x432 with 1 Axes>"
      ]
     },
     "metadata": {
      "needs_background": "light"
     },
     "output_type": "display_data"
    }
   ],
   "source": [
    "cardstatus_accountstatus = pd.crosstab(customers_transactions_data['card_status'],customers_transactions_data['account_status'])\n",
    "cardstatus_accountstatus.div(card_status.sum(1).astype(float),axis=0).plot(kind='bar',stacked=True,figsize=(20,6))"
   ]
  },
  {
   "cell_type": "code",
   "execution_count": 57,
   "id": "0db313a3",
   "metadata": {},
   "outputs": [
    {
     "data": {
      "text/html": [
       "<div>\n",
       "<style scoped>\n",
       "    .dataframe tbody tr th:only-of-type {\n",
       "        vertical-align: middle;\n",
       "    }\n",
       "\n",
       "    .dataframe tbody tr th {\n",
       "        vertical-align: top;\n",
       "    }\n",
       "\n",
       "    .dataframe thead th {\n",
       "        text-align: right;\n",
       "    }\n",
       "</style>\n",
       "<table border=\"1\" class=\"dataframe\">\n",
       "  <thead>\n",
       "    <tr style=\"text-align: right;\">\n",
       "      <th>account_status</th>\n",
       "      <th>Active</th>\n",
       "      <th>Dormant</th>\n",
       "      <th>Inactive</th>\n",
       "    </tr>\n",
       "    <tr>\n",
       "      <th>card_status</th>\n",
       "      <th></th>\n",
       "      <th></th>\n",
       "      <th></th>\n",
       "    </tr>\n",
       "  </thead>\n",
       "  <tbody>\n",
       "    <tr>\n",
       "      <th>Active</th>\n",
       "      <td>17336</td>\n",
       "      <td>481</td>\n",
       "      <td>495</td>\n",
       "    </tr>\n",
       "    <tr>\n",
       "      <th>Expired</th>\n",
       "      <td>1482</td>\n",
       "      <td>17</td>\n",
       "      <td>64</td>\n",
       "    </tr>\n",
       "    <tr>\n",
       "      <th>Restricted</th>\n",
       "      <td>408</td>\n",
       "      <td>12</td>\n",
       "      <td>0</td>\n",
       "    </tr>\n",
       "  </tbody>\n",
       "</table>\n",
       "</div>"
      ],
      "text/plain": [
       "account_status  Active  Dormant  Inactive\n",
       "card_status                              \n",
       "Active           17336      481       495\n",
       "Expired           1482       17        64\n",
       "Restricted         408       12         0"
      ]
     },
     "execution_count": 57,
     "metadata": {},
     "output_type": "execute_result"
    }
   ],
   "source": [
    "cardstatus_accountstatus1 = pd.crosstab(customers_transactions_data['card_status'],customers_transactions_data['account_status'])\n",
    "cardstatus_accountstatus1"
   ]
  },
  {
   "cell_type": "markdown",
   "id": "c14ccb57",
   "metadata": {},
   "source": [
    "## Comments\n",
    "\n",
    "* From the above plot we can see that the high number of expired(1482) and restricted(408) cards does not affect the status of the account. \n",
    "* This means some customers intentionally do not reactivate their cards for reasons best known to them but still operate their accounts. "
   ]
  },
  {
   "cell_type": "code",
   "execution_count": 58,
   "id": "b40aa816",
   "metadata": {},
   "outputs": [
    {
     "data": {
      "text/plain": [
       "<AxesSubplot:xlabel='customer_type'>"
      ]
     },
     "execution_count": 58,
     "metadata": {},
     "output_type": "execute_result"
    },
    {
     "data": {
      "image/png": "[encoded data removed]",
      "text/plain": [
       "<Figure size 1440x432 with 1 Axes>"
      ]
     },
     "metadata": {
      "needs_background": "light"
     },
     "output_type": "display_data"
    }
   ],
   "source": [
    "customer_type_ussd = pd.crosstab(customers_transactions_data['customer_type'],customers_transactions_data['ussd'])\n",
    "customer_type_ussd.div(customer_type.sum(1).astype(float),axis=0).plot(kind='bar',stacked=True,figsize=(20,6))"
   ]
  },
  {
   "cell_type": "code",
   "execution_count": 59,
   "id": "f4589cfb",
   "metadata": {},
   "outputs": [
    {
     "data": {
      "text/html": [
       "<div>\n",
       "<style scoped>\n",
       "    .dataframe tbody tr th:only-of-type {\n",
       "        vertical-align: middle;\n",
       "    }\n",
       "\n",
       "    .dataframe tbody tr th {\n",
       "        vertical-align: top;\n",
       "    }\n",
       "\n",
       "    .dataframe thead th {\n",
       "        text-align: right;\n",
       "    }\n",
       "</style>\n",
       "<table border=\"1\" class=\"dataframe\">\n",
       "  <thead>\n",
       "    <tr style=\"text-align: right;\">\n",
       "      <th>ussd</th>\n",
       "      <th>0</th>\n",
       "      <th>1</th>\n",
       "    </tr>\n",
       "    <tr>\n",
       "      <th>customer_type</th>\n",
       "      <th></th>\n",
       "      <th></th>\n",
       "    </tr>\n",
       "  </thead>\n",
       "  <tbody>\n",
       "    <tr>\n",
       "      <th>Corporate Customer</th>\n",
       "      <td>917</td>\n",
       "      <td>0</td>\n",
       "    </tr>\n",
       "    <tr>\n",
       "      <th>DSE</th>\n",
       "      <td>0</td>\n",
       "      <td>8</td>\n",
       "    </tr>\n",
       "    <tr>\n",
       "      <th>EMBASSY/HIGH COMMISSION</th>\n",
       "      <td>5</td>\n",
       "      <td>0</td>\n",
       "    </tr>\n",
       "    <tr>\n",
       "      <th>Enterprise Customer</th>\n",
       "      <td>345</td>\n",
       "      <td>0</td>\n",
       "    </tr>\n",
       "    <tr>\n",
       "      <th>Individual Customer</th>\n",
       "      <td>3983</td>\n",
       "      <td>13631</td>\n",
       "    </tr>\n",
       "    <tr>\n",
       "      <th>Individual Staff</th>\n",
       "      <td>40</td>\n",
       "      <td>312</td>\n",
       "    </tr>\n",
       "    <tr>\n",
       "      <th>Internal Customer</th>\n",
       "      <td>86</td>\n",
       "      <td>0</td>\n",
       "    </tr>\n",
       "    <tr>\n",
       "      <th>Joint Customers</th>\n",
       "      <td>4</td>\n",
       "      <td>0</td>\n",
       "    </tr>\n",
       "    <tr>\n",
       "      <th>MSME</th>\n",
       "      <td>228</td>\n",
       "      <td>0</td>\n",
       "    </tr>\n",
       "    <tr>\n",
       "      <th>Minor</th>\n",
       "      <td>66</td>\n",
       "      <td>124</td>\n",
       "    </tr>\n",
       "    <tr>\n",
       "      <th>Not for Profit</th>\n",
       "      <td>17</td>\n",
       "      <td>0</td>\n",
       "    </tr>\n",
       "    <tr>\n",
       "      <th>Salary Customer</th>\n",
       "      <td>240</td>\n",
       "      <td>1283</td>\n",
       "    </tr>\n",
       "    <tr>\n",
       "      <th>Student</th>\n",
       "      <td>0</td>\n",
       "      <td>61</td>\n",
       "    </tr>\n",
       "    <tr>\n",
       "      <th>Trainee</th>\n",
       "      <td>27</td>\n",
       "      <td>0</td>\n",
       "    </tr>\n",
       "    <tr>\n",
       "      <th>Youth Corper</th>\n",
       "      <td>10</td>\n",
       "      <td>0</td>\n",
       "    </tr>\n",
       "  </tbody>\n",
       "</table>\n",
       "</div>"
      ],
      "text/plain": [
       "ussd                        0      1\n",
       "customer_type                       \n",
       "Corporate Customer        917      0\n",
       "DSE                         0      8\n",
       "EMBASSY/HIGH COMMISSION     5      0\n",
       "Enterprise Customer       345      0\n",
       "Individual Customer      3983  13631\n",
       "Individual Staff           40    312\n",
       "Internal Customer          86      0\n",
       "Joint Customers             4      0\n",
       "MSME                      228      0\n",
       "Minor                      66    124\n",
       "Not for Profit             17      0\n",
       "Salary Customer           240   1283\n",
       "Student                     0     61\n",
       "Trainee                    27      0\n",
       "Youth Corper               10      0"
      ]
     },
     "execution_count": 59,
     "metadata": {},
     "output_type": "execute_result"
    }
   ],
   "source": [
    "customer_type_ussd1 = pd.crosstab(customers_transactions_data['customer_type'],customers_transactions_data['ussd'])\n",
    "customer_type_ussd1"
   ]
  },
  {
   "cell_type": "markdown",
   "id": "1fd5d0a3",
   "metadata": {},
   "source": [
    "# Comments \n",
    "\n",
    "* From the above plot, it is observed that the follwing type of customers do not use 'USSD'\n",
    "* 917 corporate customers, 5 Embassy/high Commission customers, 345 Enterprise customers, 3983 Individual customers, 40 individual staff, 86 internal customers, 4 joint customers. 228 MSME customers, 66 Minor accounts, 17 not for profit accounts, 240 salary customer, 27 trainee accounts, 10 youth corper accounts \n",
    "* Measures can be taken to encourage all these account categories use the 'ussd' we can put up a promo like 'use the 'ussd' code to make transactions and you stand a chance to win N5000. This kind of promotion will encourage the different customer type pay attention to the ussd code.\n"
   ]
  },
  {
   "cell_type": "code",
   "execution_count": 60,
   "id": "bc3abe44",
   "metadata": {},
   "outputs": [
    {
     "data": {
      "text/plain": [
       "<AxesSubplot:xlabel='customer_type'>"
      ]
     },
     "execution_count": 60,
     "metadata": {},
     "output_type": "execute_result"
    },
    {
     "data": {
      "image/png": "[encoded data removed]",
      "text/plain": [
       "<Figure size 1440x432 with 1 Axes>"
      ]
     },
     "metadata": {
      "needs_background": "light"
     },
     "output_type": "display_data"
    }
   ],
   "source": [
    "customer_type_onebank = pd.crosstab(customers_transactions_data['customer_type'],customers_transactions_data['onebank'])\n",
    "customer_type_onebank.div(customer_type.sum(1).astype(float),axis=0).plot(kind='bar',stacked=True,figsize=(20,6))"
   ]
  },
  {
   "cell_type": "code",
   "execution_count": 61,
   "id": "fc6e6a40",
   "metadata": {},
   "outputs": [
    {
     "data": {
      "text/html": [
       "<div>\n",
       "<style scoped>\n",
       "    .dataframe tbody tr th:only-of-type {\n",
       "        vertical-align: middle;\n",
       "    }\n",
       "\n",
       "    .dataframe tbody tr th {\n",
       "        vertical-align: top;\n",
       "    }\n",
       "\n",
       "    .dataframe thead th {\n",
       "        text-align: right;\n",
       "    }\n",
       "</style>\n",
       "<table border=\"1\" class=\"dataframe\">\n",
       "  <thead>\n",
       "    <tr style=\"text-align: right;\">\n",
       "      <th>onebank</th>\n",
       "      <th>0</th>\n",
       "      <th>1</th>\n",
       "    </tr>\n",
       "    <tr>\n",
       "      <th>customer_type</th>\n",
       "      <th></th>\n",
       "      <th></th>\n",
       "    </tr>\n",
       "  </thead>\n",
       "  <tbody>\n",
       "    <tr>\n",
       "      <th>Corporate Customer</th>\n",
       "      <td>901</td>\n",
       "      <td>16</td>\n",
       "    </tr>\n",
       "    <tr>\n",
       "      <th>DSE</th>\n",
       "      <td>8</td>\n",
       "      <td>0</td>\n",
       "    </tr>\n",
       "    <tr>\n",
       "      <th>EMBASSY/HIGH COMMISSION</th>\n",
       "      <td>5</td>\n",
       "      <td>0</td>\n",
       "    </tr>\n",
       "    <tr>\n",
       "      <th>Enterprise Customer</th>\n",
       "      <td>345</td>\n",
       "      <td>0</td>\n",
       "    </tr>\n",
       "    <tr>\n",
       "      <th>Individual Customer</th>\n",
       "      <td>9984</td>\n",
       "      <td>7630</td>\n",
       "    </tr>\n",
       "    <tr>\n",
       "      <th>Individual Staff</th>\n",
       "      <td>0</td>\n",
       "      <td>352</td>\n",
       "    </tr>\n",
       "    <tr>\n",
       "      <th>Internal Customer</th>\n",
       "      <td>86</td>\n",
       "      <td>0</td>\n",
       "    </tr>\n",
       "    <tr>\n",
       "      <th>Joint Customers</th>\n",
       "      <td>4</td>\n",
       "      <td>0</td>\n",
       "    </tr>\n",
       "    <tr>\n",
       "      <th>MSME</th>\n",
       "      <td>228</td>\n",
       "      <td>0</td>\n",
       "    </tr>\n",
       "    <tr>\n",
       "      <th>Minor</th>\n",
       "      <td>190</td>\n",
       "      <td>0</td>\n",
       "    </tr>\n",
       "    <tr>\n",
       "      <th>Not for Profit</th>\n",
       "      <td>17</td>\n",
       "      <td>0</td>\n",
       "    </tr>\n",
       "    <tr>\n",
       "      <th>Salary Customer</th>\n",
       "      <td>1033</td>\n",
       "      <td>490</td>\n",
       "    </tr>\n",
       "    <tr>\n",
       "      <th>Student</th>\n",
       "      <td>61</td>\n",
       "      <td>0</td>\n",
       "    </tr>\n",
       "    <tr>\n",
       "      <th>Trainee</th>\n",
       "      <td>0</td>\n",
       "      <td>27</td>\n",
       "    </tr>\n",
       "    <tr>\n",
       "      <th>Youth Corper</th>\n",
       "      <td>10</td>\n",
       "      <td>0</td>\n",
       "    </tr>\n",
       "  </tbody>\n",
       "</table>\n",
       "</div>"
      ],
      "text/plain": [
       "onebank                     0     1\n",
       "customer_type                      \n",
       "Corporate Customer        901    16\n",
       "DSE                         8     0\n",
       "EMBASSY/HIGH COMMISSION     5     0\n",
       "Enterprise Customer       345     0\n",
       "Individual Customer      9984  7630\n",
       "Individual Staff            0   352\n",
       "Internal Customer          86     0\n",
       "Joint Customers             4     0\n",
       "MSME                      228     0\n",
       "Minor                     190     0\n",
       "Not for Profit             17     0\n",
       "Salary Customer          1033   490\n",
       "Student                    61     0\n",
       "Trainee                     0    27\n",
       "Youth Corper               10     0"
      ]
     },
     "execution_count": 61,
     "metadata": {},
     "output_type": "execute_result"
    }
   ],
   "source": [
    "cutomer_type_onebank = pd.crosstab(customers_transactions_data['customer_type'], customers_transactions_data['onebank'])\n",
    "customer_type_onebank"
   ]
  },
  {
   "cell_type": "markdown",
   "id": "a0d3ea0a",
   "metadata": {},
   "source": [
    "# Comments\n",
    "\n",
    "* From the above plot, the percentage of customers that are not using one bank is relatively high\n",
    "* Aggresive measures should be taken by digital sales people to push the one bank app to everyone."
   ]
  },
  {
   "cell_type": "code",
   "execution_count": 62,
   "id": "1455af37",
   "metadata": {},
   "outputs": [
    {
     "data": {
      "text/plain": [
       "<AxesSubplot:xlabel='customer_type'>"
      ]
     },
     "execution_count": 62,
     "metadata": {},
     "output_type": "execute_result"
    },
    {
     "data": {
      "image/png": "[encoded data removed]",
      "text/plain": [
       "<Figure size 1440x432 with 1 Axes>"
      ]
     },
     "metadata": {
      "needs_background": "light"
     },
     "output_type": "display_data"
    }
   ],
   "source": [
    "customer_type_onepay = pd.crosstab(customers_transactions_data['customer_type'], customers_transactions_data['onepay'])\n",
    "customer_type_onepay.div(customer_type.sum(1).astype(float),axis=0).plot(kind='bar',stacked=True,figsize=(20,6))"
   ]
  },
  {
   "cell_type": "code",
   "execution_count": 63,
   "id": "52c59bc6",
   "metadata": {},
   "outputs": [
    {
     "data": {
      "text/html": [
       "<div>\n",
       "<style scoped>\n",
       "    .dataframe tbody tr th:only-of-type {\n",
       "        vertical-align: middle;\n",
       "    }\n",
       "\n",
       "    .dataframe tbody tr th {\n",
       "        vertical-align: top;\n",
       "    }\n",
       "\n",
       "    .dataframe thead th {\n",
       "        text-align: right;\n",
       "    }\n",
       "</style>\n",
       "<table border=\"1\" class=\"dataframe\">\n",
       "  <thead>\n",
       "    <tr style=\"text-align: right;\">\n",
       "      <th>onepay</th>\n",
       "      <th>0</th>\n",
       "      <th>1</th>\n",
       "    </tr>\n",
       "    <tr>\n",
       "      <th>customer_type</th>\n",
       "      <th></th>\n",
       "      <th></th>\n",
       "    </tr>\n",
       "  </thead>\n",
       "  <tbody>\n",
       "    <tr>\n",
       "      <th>Corporate Customer</th>\n",
       "      <td>917</td>\n",
       "      <td>0</td>\n",
       "    </tr>\n",
       "    <tr>\n",
       "      <th>DSE</th>\n",
       "      <td>0</td>\n",
       "      <td>8</td>\n",
       "    </tr>\n",
       "    <tr>\n",
       "      <th>EMBASSY/HIGH COMMISSION</th>\n",
       "      <td>5</td>\n",
       "      <td>0</td>\n",
       "    </tr>\n",
       "    <tr>\n",
       "      <th>Enterprise Customer</th>\n",
       "      <td>345</td>\n",
       "      <td>0</td>\n",
       "    </tr>\n",
       "    <tr>\n",
       "      <th>Individual Customer</th>\n",
       "      <td>6008</td>\n",
       "      <td>11606</td>\n",
       "    </tr>\n",
       "    <tr>\n",
       "      <th>Individual Staff</th>\n",
       "      <td>0</td>\n",
       "      <td>352</td>\n",
       "    </tr>\n",
       "    <tr>\n",
       "      <th>Internal Customer</th>\n",
       "      <td>86</td>\n",
       "      <td>0</td>\n",
       "    </tr>\n",
       "    <tr>\n",
       "      <th>Joint Customers</th>\n",
       "      <td>4</td>\n",
       "      <td>0</td>\n",
       "    </tr>\n",
       "    <tr>\n",
       "      <th>MSME</th>\n",
       "      <td>228</td>\n",
       "      <td>0</td>\n",
       "    </tr>\n",
       "    <tr>\n",
       "      <th>Minor</th>\n",
       "      <td>90</td>\n",
       "      <td>100</td>\n",
       "    </tr>\n",
       "    <tr>\n",
       "      <th>Not for Profit</th>\n",
       "      <td>17</td>\n",
       "      <td>0</td>\n",
       "    </tr>\n",
       "    <tr>\n",
       "      <th>Salary Customer</th>\n",
       "      <td>522</td>\n",
       "      <td>1001</td>\n",
       "    </tr>\n",
       "    <tr>\n",
       "      <th>Student</th>\n",
       "      <td>0</td>\n",
       "      <td>61</td>\n",
       "    </tr>\n",
       "    <tr>\n",
       "      <th>Trainee</th>\n",
       "      <td>0</td>\n",
       "      <td>27</td>\n",
       "    </tr>\n",
       "    <tr>\n",
       "      <th>Youth Corper</th>\n",
       "      <td>10</td>\n",
       "      <td>0</td>\n",
       "    </tr>\n",
       "  </tbody>\n",
       "</table>\n",
       "</div>"
      ],
      "text/plain": [
       "onepay                      0      1\n",
       "customer_type                       \n",
       "Corporate Customer        917      0\n",
       "DSE                         0      8\n",
       "EMBASSY/HIGH COMMISSION     5      0\n",
       "Enterprise Customer       345      0\n",
       "Individual Customer      6008  11606\n",
       "Individual Staff            0    352\n",
       "Internal Customer          86      0\n",
       "Joint Customers             4      0\n",
       "MSME                      228      0\n",
       "Minor                      90    100\n",
       "Not for Profit             17      0\n",
       "Salary Customer           522   1001\n",
       "Student                     0     61\n",
       "Trainee                     0     27\n",
       "Youth Corper               10      0"
      ]
     },
     "execution_count": 63,
     "metadata": {},
     "output_type": "execute_result"
    }
   ],
   "source": [
    "cutomer_type_onepay = pd.crosstab(customers_transactions_data['customer_type'], customers_transactions_data['onepay'])\n",
    "customer_type_onepay"
   ]
  },
  {
   "cell_type": "markdown",
   "id": "d196a297",
   "metadata": {},
   "source": [
    "# Comments\n",
    "\n",
    "* From the plot above, I observed the most of accounts used for businesses like corporate customers, Enterprise customers, MSME accounts and Not for profit do not use do digital banking(one pay).\n",
    "* Solutions that will help their businesses should be sold to them to encourage the use the digital banking platform. solutions like when they use the digital banking platform, artificial intelligence within the app can help them detect suspicious or fradulent activity in their account and it will notify them."
   ]
  },
  {
   "cell_type": "code",
   "execution_count": 64,
   "id": "6c6e65b1",
   "metadata": {},
   "outputs": [
    {
     "data": {
      "text/plain": [
       "<AxesSubplot:xlabel='product_group_desc'>"
      ]
     },
     "execution_count": 64,
     "metadata": {},
     "output_type": "execute_result"
    },
    {
     "data": {
      "image/png": "[encoded data removed]",
      "text/plain": [
       "<Figure size 1440x432 with 1 Axes>"
      ]
     },
     "metadata": {
      "needs_background": "light"
     },
     "output_type": "display_data"
    }
   ],
   "source": [
    "product_group = pd.crosstab(customers_transactions_data['product_group_desc'],customers_transactions_data['account_status'])\n",
    "product_group.div(product_group.sum(1).astype(float),axis=0).plot(kind='bar',stacked=True,figsize=(20,6))"
   ]
  },
  {
   "cell_type": "code",
   "execution_count": 65,
   "id": "c32d8e8b",
   "metadata": {},
   "outputs": [
    {
     "data": {
      "text/html": [
       "<div>\n",
       "<style scoped>\n",
       "    .dataframe tbody tr th:only-of-type {\n",
       "        vertical-align: middle;\n",
       "    }\n",
       "\n",
       "    .dataframe tbody tr th {\n",
       "        vertical-align: top;\n",
       "    }\n",
       "\n",
       "    .dataframe thead th {\n",
       "        text-align: right;\n",
       "    }\n",
       "</style>\n",
       "<table border=\"1\" class=\"dataframe\">\n",
       "  <thead>\n",
       "    <tr style=\"text-align: right;\">\n",
       "      <th>account_status</th>\n",
       "      <th>Active</th>\n",
       "      <th>Dormant</th>\n",
       "      <th>Inactive</th>\n",
       "    </tr>\n",
       "    <tr>\n",
       "      <th>product_group_desc</th>\n",
       "      <th></th>\n",
       "      <th></th>\n",
       "      <th></th>\n",
       "    </tr>\n",
       "  </thead>\n",
       "  <tbody>\n",
       "    <tr>\n",
       "      <th>Current Accounts Group</th>\n",
       "      <td>4023</td>\n",
       "      <td>152</td>\n",
       "      <td>201</td>\n",
       "    </tr>\n",
       "    <tr>\n",
       "      <th>Domiciliary Current Account Group</th>\n",
       "      <td>86</td>\n",
       "      <td>11</td>\n",
       "      <td>8</td>\n",
       "    </tr>\n",
       "    <tr>\n",
       "      <th>Domiciliary Savings Account Group</th>\n",
       "      <td>0</td>\n",
       "      <td>0</td>\n",
       "      <td>6</td>\n",
       "    </tr>\n",
       "    <tr>\n",
       "      <th>Savings Accounts Group</th>\n",
       "      <td>16031</td>\n",
       "      <td>393</td>\n",
       "      <td>424</td>\n",
       "    </tr>\n",
       "  </tbody>\n",
       "</table>\n",
       "</div>"
      ],
      "text/plain": [
       "account_status                     Active  Dormant  Inactive\n",
       "product_group_desc                                          \n",
       "Current Accounts Group               4023      152       201\n",
       "Domiciliary Current Account Group      86       11         8\n",
       "Domiciliary Savings Account Group       0        0         6\n",
       "Savings Accounts Group              16031      393       424"
      ]
     },
     "execution_count": 65,
     "metadata": {},
     "output_type": "execute_result"
    }
   ],
   "source": [
    "product_group = pd.crosstab(customers_transactions_data['product_group_desc'],customers_transactions_data['account_status'])\n",
    "product_group"
   ]
  },
  {
   "cell_type": "markdown",
   "id": "fe049108",
   "metadata": {},
   "source": [
    "# Comments \n",
    "\n",
    "* From the plot above, it was observed that the domiciliary savings account group has all its account inactive, this is understandable owing to the current FX rate in the country and this has caused unease in doing business in other currency.\n"
   ]
  },
  {
   "cell_type": "code",
   "execution_count": null,
   "id": "f3a3d75b",
   "metadata": {},
   "outputs": [],
   "source": []
  }
 ],
 "metadata": {
  "kernelspec": {
   "display_name": "Python 3",
   "language": "python",
   "name": "python3"
  },
  "language_info": {
   "codemirror_mode": {
    "name": "ipython",
    "version": 3
   },
   "file_extension": ".py",
   "mimetype": "text/x-python",
   "name": "python",
   "nbconvert_exporter": "python",
   "pygments_lexer": "ipython3",
   "version": "3.8.8"
  }
 },
 "nbformat": 4,
 "nbformat_minor": 5
}
